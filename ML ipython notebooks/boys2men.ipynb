{
 "cells": [
  {
   "cell_type": "code",
   "execution_count": 1,
   "metadata": {},
   "outputs": [
    {
     "name": "stderr",
     "output_type": "stream",
     "text": [
      "C:\\Users\\phani\\Anaconda3\\envs\\tensorflow\\lib\\site-packages\\gensim\\utils.py:860: UserWarning: detected Windows; aliasing chunkize to chunkize_serial\n",
      "  warnings.warn(\"detected Windows; aliasing chunkize to chunkize_serial\")\n"
     ]
    }
   ],
   "source": [
    "#natural language toolkit\n",
    "import nltk\n",
    "#word 2 vec\n",
    "import gensim.models.word2vec as w2v\n",
    "#dimensionality reduction\n",
    "import sklearn.manifold\n",
    "#math\n",
    "import numpy as np\n",
    "#plotting\n",
    "import matplotlib.pyplot as plt\n",
    "#parse dataset\n",
    "import pandas as pd\n",
    "#visualization\n",
    "import seaborn as sns"
   ]
  },
  {
   "cell_type": "code",
   "execution_count": 2,
   "metadata": {
    "collapsed": true
   },
   "outputs": [],
   "source": [
    "#encoding. word encodig\n",
    "import codecs\n",
    "#finds all pathnames matching a pattern, like regex\n",
    "import glob\n",
    "#log events for libraries\n",
    "import logging\n",
    "#concurrency\n",
    "import multiprocessing\n",
    "#dealing with operating system , like reading file\n",
    "import os\n",
    "#pretty print, human readable\n",
    "import pprint\n",
    "#regular expressions\n",
    "import re"
   ]
  },
  {
   "cell_type": "code",
   "execution_count": 3,
   "metadata": {
    "collapsed": true
   },
   "outputs": [],
   "source": [
    "from __future__ import absolute_import, division, print_function\n"
   ]
  },
  {
   "cell_type": "code",
   "execution_count": 5,
   "metadata": {},
   "outputs": [
    {
     "name": "stdout",
     "output_type": "stream",
     "text": [
      "[nltk_data] Downloading package punkt to\n",
      "[nltk_data]     C:\\Users\\phani\\AppData\\Roaming\\nltk_data...\n",
      "[nltk_data]   Package punkt is already up-to-date!\n"
     ]
    }
   ],
   "source": [
    "nltk.download('punkt')\n",
    "from nltk.corpus import stopwords"
   ]
  },
  {
   "cell_type": "code",
   "execution_count": 8,
   "metadata": {},
   "outputs": [
    {
     "data": {
      "text/plain": [
       "['alice.txt', 'book1.txt', 'book2.txt', 'shakeboys.txt', 'shakespeare.txt']"
      ]
     },
     "execution_count": 8,
     "metadata": {},
     "output_type": "execute_result"
    }
   ],
   "source": [
    "book_filenames = sorted(glob.glob(\"*.txt\"))\n",
    "book_filenames"
   ]
  },
  {
   "cell_type": "code",
   "execution_count": 13,
   "metadata": {},
   "outputs": [
    {
     "name": "stdout",
     "output_type": "stream",
     "text": [
      "﻿This edition contains the complete text of the original hardcover edition.\r\n",
      "\r\n",
      "NOT ONE WORD HAS BEEN\n"
     ]
    }
   ],
   "source": [
    "corpus_raw=\"\"\n",
    "for book_filename in book_filenames[1:3]:\n",
    "    with codecs.open(book_filename,\"r\",\"utf-8\") as fp:\n",
    "        corpus_raw+=fp.read()\n",
    "       "
   ]
  },
  {
   "cell_type": "code",
   "execution_count": 14,
   "metadata": {
    "collapsed": true
   },
   "outputs": [],
   "source": [
    "def sentence_to_wordlist(raw):\n",
    "    clean = re.sub(\"[^a-zA-Z]\",\" \", raw)\n",
    "    words = clean.split()\n",
    "    return words "
   ]
  },
  {
   "cell_type": "code",
   "execution_count": 15,
   "metadata": {
    "collapsed": true
   },
   "outputs": [],
   "source": [
    "tokenizer = nltk.data.load('tokenizers/punkt/english.pickle')\n"
   ]
  },
  {
   "cell_type": "code",
   "execution_count": 18,
   "metadata": {},
   "outputs": [
    {
     "name": "stdout",
     "output_type": "stream",
     "text": [
      "['\\ufeffThis edition contains the complete text of the original hardcover edition.', 'NOT ONE WORD HAS BEEN OMITTED.', 'A CLASH OF KINGS\\r\\n\\r\\nA Bantam Spectra Book\\r\\n\\r\\nPUBLISHING HISTORY\\r\\n\\r\\nBantam Spectra hardcover edition published February 1999\\r\\n\\r\\nBantam Spectra paperback edition / September 2000\\r\\n\\r\\nSPECTRA and the portrayal of a boxed “s” are trademarks of Bantam Books, a division of Random House, Inc.\\r\\n\\r\\nAll rights reserved.', 'Copyright © 1999 by George R. R. Martin.', 'Maps by James Sinclair.', 'Heraldic crest by Virginia Norey.', 'Library of Congress Catalog Card Number: 98-37954.', 'No part of this book may be reproduced or transmitted in any form or by any means, electronic or mechanical, including photocopying, recording, or by any information storage and retrieval system, without permission in writing from the publisher.', 'Visit our website at www.bantamdell.com\\r\\n\\r\\nBantam Books, the rooster colophon, Spectra and the portrayal of a boxed “s” are registered trademarks of Random House Inc.\\r\\n\\r\\neISBN: 978-0-553-89785-2\\r\\n\\r\\nv3.0_r1\\r\\n\\r\\n\\r\\n\\r\\n\\r\\n\\r\\nCONTENTS\\r\\n\\r\\n\\r\\nCOVER\\r\\n\\r\\nTITLE PAGE\\r\\n\\r\\nCOPYRIGHT\\r\\n\\r\\nDEDICATION\\r\\n\\r\\nMAPS\\r\\n\\r\\nPROLOGUE\\r\\n\\r\\n\\r\\n\\r\\nARYA\\r\\n\\r\\nSANSA\\r\\n\\r\\nTYRION\\r\\n\\r\\nBRAN\\r\\n\\r\\nARYA\\r\\n\\r\\nJON\\r\\n\\r\\nCATELYN\\r\\n\\r\\nTYRION\\r\\n\\r\\nARYA\\r\\n\\r\\nDAVOS\\r\\n\\r\\nTHEON\\r\\n\\r\\nDAENERYS\\r\\n\\r\\nJON\\r\\n\\r\\nARYA\\r\\n\\r\\nTYRION\\r\\n\\r\\nBRAN\\r\\n\\r\\nTYRION\\r\\n\\r\\nSANSA\\r\\n\\r\\nARYA\\r\\n\\r\\nTYRION\\r\\n\\r\\nBRAN\\r\\n\\r\\nCATELYN\\r\\n\\r\\nJON\\r\\n\\r\\nTHEON\\r\\n\\r\\nTYRION\\r\\n\\r\\nARYA\\r\\n\\r\\nDAENERYS\\r\\n\\r\\nBRAN\\r\\n\\r\\nTYRION\\r\\n\\r\\nARYA\\r\\n\\r\\nCATELYN\\r\\n\\r\\nSANSA\\r\\n\\r\\nCATELYN\\r\\n\\r\\nJON\\r\\n\\r\\nBRAN\\r\\n\\r\\nTYRION\\r\\n\\r\\nTHEON\\r\\n\\r\\nARYA\\r\\n\\r\\nCATELYN\\r\\n\\r\\nDAENERYS\\r\\n\\r\\nTYRION\\r\\n\\r\\nDAVOS\\r\\n\\r\\nJON\\r\\n\\r\\nTYRION\\r\\n\\r\\nCATELYN\\r\\n\\r\\nBRAN\\r\\n\\r\\nARYA\\r\\n\\r\\nDAENERYS\\r\\n\\r\\nTYRION\\r\\n\\r\\nTHEON\\r\\n\\r\\nJON\\r\\n\\r\\nSANSA\\r\\n\\r\\nJON\\r\\n\\r\\nTYRION\\r\\n\\r\\nCATELYN\\r\\n\\r\\nTHEON\\r\\n\\r\\nSANSA\\r\\n\\r\\nDAVOS\\r\\n\\r\\nTYRION\\r\\n\\r\\nSANSA\\r\\n\\r\\nTYRION\\r\\n\\r\\nSANSA\\r\\n\\r\\nDAENERYS\\r\\n\\r\\nARYA\\r\\n\\r\\nSANSA\\r\\n\\r\\nTHEON\\r\\n\\r\\nTYRION\\r\\n\\r\\nJON\\r\\n\\r\\nBRAN\\r\\n\\r\\nAPPENDIX\\r\\n\\r\\nTHE KINGS AND THEIR COURTS\\r\\n\\r\\nTHE KING ON THE IRON THRONE\\r\\n\\r\\nTHE KING IN THE NARROW SEA\\r\\n\\r\\nTHE KING IN HIGHGARDEN\\r\\n\\r\\nTHE KING IN THE NORTH\\r\\n\\r\\nTHE QUEEN ACROSS THE WATER\\r\\n\\r\\nOTHER HOUSES GREAT AND SMALL\\r\\n\\r\\nHOUSE ARRYN\\r\\n\\r\\nHOUSE FLORENT\\r\\n\\r\\nHOUSE FREY\\r\\n\\r\\nHOUSE GREYJOY\\r\\n\\r\\nHOUSE LANNISTER\\r\\n\\r\\nHOUSE MARTELL\\r\\n\\r\\nHOUSE TYRELL\\r\\n\\r\\nTHE MEN OF THE NIGHT’S WATCH\\r\\n\\r\\nACKNOWLEDGMENTS\\r\\n\\r\\n\\r\\n\\r\\n\\r\\n\\r\\nTo John and Gail\\r\\n\\r\\nfor all the meat and mead we’ve shared\\r\\n\\r\\n\\r\\n\\r\\n\\r\\n\\r\\nPROLOGUE\\r\\n\\r\\nThe comet’s tail spread across the dawn, a red slash that bled above the crags of Dragonstone like a wound in the pink and purple sky.', 'The maester stood on the windswept balcony outside his chambers.', 'It was here the ravens came, after long flight.', 'Their droppings speckled the gargoyles that rose twelve feet tall on either side of him, a hellhound and a wyvern, two of the thousand that brooded over the walls of the ancient fortress.', 'When first he came to Dragonstone, the army of stone grotesques had made him uneasy, but as the years passed he had grown used to them.', 'Now he thought of them as old friends.', 'The three of them watched the sky together with foreboding.', 'The maester did not believe in omens.', 'And yet .', '.', '.', 'old as he was, Cressen had never seen a comet half so bright, nor yet that color, that terrible color, the color of blood and flame and sunsets.', 'He wondered if his gargoyles had ever seen its like.', 'They had been here so much longer than he had, and would still be here long after he was gone.', 'If stone tongues could speak .', '.', '.', 'Such folly.', 'He leaned against the battlement, the sea crashing beneath him, the black stone rough beneath his fingers.', 'Talking gargoyles and prophecies in the sky.', 'I am an old done man, grown giddy as a child again.', 'Had a lifetime’s hard-won wisdom fled him along with his health and strength?', 'He was a maester, trained and chained in the great Citadel of Oldtown.', 'What had he come to, when superstition filled his head as if he were an ignorant fieldhand?', 'And yet .', '.', '.', 'and yet .', '.', '.', 'the comet burned even by day now, while pale grey steam rose from the hot vents of Dragonmont behind the castle, and yestermorn a white raven had brought word from the Citadel itself, word long-expected but no less fearful for all that, word of summer’s end.', 'Omens, all.', 'Too many to deny.', 'What does it all mean?', 'he wanted to cry.', '“Maester Cressen, we have visitors.” Pylos spoke softly, as if loath to disturb Cressen’s solemn meditations.', 'Had he known what drivel filled his head, he would have shouted.', '“The princess would see the white raven.” Ever correct, Pylos called her princess now, as her lord father was a king.', 'King of a smoking rock in the great salt sea, yet a king nonetheless.', '“Her fool is with her.”\\r\\n\\r\\nThe old man turned away from the dawn, keeping a hand on his wyvern to steady himself.', '“Help me to my chair and show them in.”\\r\\n\\r\\nTaking his arm, Pylos led him inside.', 'In his youth, Cressen had walked briskly, but he was not far from his eightieth name day now, and his legs were frail and unsteady.', 'Two years past, he had fallen and shattered a hip, and it had never mended properly.', 'Last year when he took ill, the Citadel had sent Pylos out from Oldtown, mere days before Lord Stannis had closed the isle .', '.', '.', 'to help him in his labors, it was said, but Cressen knew the truth.', 'Pylos had come to replace him when he died.', 'He did not mind.', 'Someone must take his place, and sooner than he would like .', '.', '.', 'He let the younger man settle him behind his books and papers.', '“Go bring her.', 'It is ill to keep a lady waiting.” He waved a hand, a feeble gesture of haste from a man no longer capable of hastening.', 'His flesh was wrinkled and spotted, the skin so papery thin that he could see the web of veins and the shape of bones beneath.', 'And how they trembled, these hands of his that had once been so sure and deft .', '.', '.', 'When Pylos returned the girl came with him, shy as ever.', 'Behind her, shuffling and hopping in that queer sideways walk of his, came her fool.', 'On his head was a mock helm fashioned from an old tin bucket, with a rack of deer antlers strapped to the crown and hung with cowbells.', 'With his every lurching step, the bells rang, each with a different voice, clang-a-dang bong-dong ring-a-ling clong clong clong.', '“Who comes to see us so early, Pylos?” Cressen said.', '“It’s me and Patches, Maester.” Guileless blue eyes blinked at him.', 'Hers was not a pretty face, alas.', 'The child had her lord father’s square jut of jaw and her mother’s unfortunate ears, along with a disfigurement all her own, the legacy of the bout of greyscale that had almost claimed her in the crib.', 'Across half one cheek and well down her neck, her flesh was stiff and dead, the skin cracked and flaking, mottled black and grey and stony to the touch.', '“Pylos said we might see the white raven.”\\r\\n\\r\\n“Indeed you may,” Cressen answered.', 'As if he would ever deny her.', 'She had been denied too often in her time.', 'Her name was Shireen.', 'She would be ten on her next name day, and she was the saddest child that Maester Cressen had ever known.', 'Her sadness is my shame, the old man thought, another mark of my failure.', '“Maester Pylos, do me a kindness and bring the bird down from the rookery for the Lady Shireen.”\\r\\n\\r\\n“It would be my pleasure.” Pylos was a polite youth, no more than five-and-twenty, yet solemn as a man of sixty.', 'If only he had more humor, more life in him; that was what was needed here.', 'Grim places needed lightening, not solemnity, and Dragonstone was grim beyond a doubt, a lonely citadel in the wet waste surrounded by storm and salt, with the smoking shadow of the mountain at its back.', 'A maester must go where he is sent, so Cressen had come here with his lord some twelve years past, and he had served, and served well.', 'Yet he had never loved Dragonstone, nor ever felt truly at home here.', 'Of late, when he woke from restless dreams in which the red woman figured disturbingly, he often did not know where he was.', 'The fool turned his patched and piebald head to watch Pylos climb the steep iron steps to the rookery.', 'His bells rang with the motion.', '“Under the sea, the birds have scales for feathers,” he said, clang-a-langing.', '“I know, I know, oh, oh, oh.”\\r\\n\\r\\nEven for a fool, Patchface was a sorry thing.', 'Perhaps once he could evoke gales of laughter with a quip, but the sea had taken that power from him, along with half his wits and all his memory.', 'He was soft and obese, subject to twitches and trembles, incoherent as often as not.', 'The girl was the only one who laughed at him now, the only one who cared if he lived or died.', 'An ugly little girl and a sad fool, and maester makes three .', '.', '.', 'now there is a tale to make men weep.', '“Sit with me, child.” Cressen beckoned her closer.']\n"
     ]
    }
   ],
   "source": [
    "raw_sentences = tokenizer.tokenize(corpus_raw)\n"
   ]
  },
  {
   "cell_type": "code",
   "execution_count": 21,
   "metadata": {},
   "outputs": [],
   "source": [
    "sentences=[]\n",
    "for raw_sentence in raw_sentences:\n",
    "    if len(raw_sentence)>0:\n",
    "           sentences.append(sentence_to_wordlist(raw_sentence))\n",
    "           \n",
    "       "
   ]
  },
  {
   "cell_type": "code",
   "execution_count": 22,
   "metadata": {
    "collapsed": true
   },
   "outputs": [],
   "source": [
    "token_count = sum([len(sentence) for sentence in sentences])\n"
   ]
  },
  {
   "cell_type": "code",
   "execution_count": 25,
   "metadata": {
    "collapsed": true
   },
   "outputs": [],
   "source": [
    "num_features=300\n",
    "\n",
    "min_word_count=3\n",
    "num_workers=multiprocessing.cpu_count()\n",
    "\n",
    "context_size=7\n",
    "\n",
    "downsampling=1e-3\n",
    "seed=1"
   ]
  },
  {
   "cell_type": "code",
   "execution_count": 26,
   "metadata": {},
   "outputs": [],
   "source": [
    "\n",
    "thrones2vec = w2v.Word2Vec(\n",
    "    sg=1,\n",
    "    seed=seed,\n",
    "    workers=num_workers,\n",
    "    size=num_features,\n",
    "    min_count=min_word_count,\n",
    "    window=context_size,\n",
    "    sample=downsampling\n",
    ")"
   ]
  },
  {
   "cell_type": "code",
   "execution_count": 29,
   "metadata": {},
   "outputs": [],
   "source": [
    "thrones2vec.train(sentences, total_examples=thrones2vec.corpus_count, epochs=thrones2vec.iter)\n",
    "\n",
    "if not os.path.exists(\"trained\"):\n",
    "    os.makedirs(\"trained\")\n",
    "thrones2vec.save(os.path.join(\"trained\", \"thrones2vec.w2v\"))\n"
   ]
  },
  {
   "cell_type": "code",
   "execution_count": 30,
   "metadata": {
    "collapsed": true
   },
   "outputs": [],
   "source": [
    "thrones2vec = w2v.Word2Vec.load(os.path.join(\"trained\", \"thrones2vec.w2v\"))\n"
   ]
  },
  {
   "cell_type": "code",
   "execution_count": 31,
   "metadata": {
    "collapsed": true
   },
   "outputs": [],
   "source": [
    "tsne = sklearn.manifold.TSNE(n_components=2, random_state=0)\n"
   ]
  },
  {
   "cell_type": "code",
   "execution_count": 33,
   "metadata": {},
   "outputs": [],
   "source": [
    "all_word_vectors_matrix = thrones2vec.wv.syn0\n"
   ]
  },
  {
   "cell_type": "code",
   "execution_count": 34,
   "metadata": {
    "collapsed": true
   },
   "outputs": [],
   "source": [
    "all_word_vectors_matrix_2d = tsne.fit_transform(all_word_vectors_matrix)\n"
   ]
  },
  {
   "cell_type": "code",
   "execution_count": 37,
   "metadata": {},
   "outputs": [],
   "source": [
    "points = pd.DataFrame(\n",
    "    [\n",
    "        (word, coords[0], coords[1])\n",
    "        for word, coords in [\n",
    "            (word, all_word_vectors_matrix_2d[thrones2vec.wv.vocab[word].index])\n",
    "            for word in thrones2vec.wv.vocab\n",
    "        ]\n",
    "    ],\n",
    "    columns=[\"word\", \"x\", \"y\"]\n",
    ")"
   ]
  },
  {
   "cell_type": "code",
   "execution_count": 38,
   "metadata": {},
   "outputs": [
    {
     "data": {
      "text/html": [
       "<div>\n",
       "<style>\n",
       "    .dataframe thead tr:only-child th {\n",
       "        text-align: right;\n",
       "    }\n",
       "\n",
       "    .dataframe thead th {\n",
       "        text-align: left;\n",
       "    }\n",
       "\n",
       "    .dataframe tbody tr th {\n",
       "        vertical-align: top;\n",
       "    }\n",
       "</style>\n",
       "<table border=\"1\" class=\"dataframe\">\n",
       "  <thead>\n",
       "    <tr style=\"text-align: right;\">\n",
       "      <th></th>\n",
       "      <th>word</th>\n",
       "      <th>x</th>\n",
       "      <th>y</th>\n",
       "    </tr>\n",
       "  </thead>\n",
       "  <tbody>\n",
       "    <tr>\n",
       "      <th>0</th>\n",
       "      <td>moods</td>\n",
       "      <td>-1.616215</td>\n",
       "      <td>-6.849025</td>\n",
       "    </tr>\n",
       "    <tr>\n",
       "      <th>1</th>\n",
       "      <td>room</td>\n",
       "      <td>-1.680754</td>\n",
       "      <td>-5.192649</td>\n",
       "    </tr>\n",
       "    <tr>\n",
       "      <th>2</th>\n",
       "      <td>watching</td>\n",
       "      <td>-6.656103</td>\n",
       "      <td>3.101132</td>\n",
       "    </tr>\n",
       "    <tr>\n",
       "      <th>3</th>\n",
       "      <td>ceased</td>\n",
       "      <td>2.675542</td>\n",
       "      <td>-0.979468</td>\n",
       "    </tr>\n",
       "    <tr>\n",
       "      <th>4</th>\n",
       "      <td>spearwife</td>\n",
       "      <td>-3.228305</td>\n",
       "      <td>-0.018428</td>\n",
       "    </tr>\n",
       "    <tr>\n",
       "      <th>5</th>\n",
       "      <td>replace</td>\n",
       "      <td>-1.373847</td>\n",
       "      <td>2.740165</td>\n",
       "    </tr>\n",
       "    <tr>\n",
       "      <th>6</th>\n",
       "      <td>cleared</td>\n",
       "      <td>-5.682993</td>\n",
       "      <td>2.713599</td>\n",
       "    </tr>\n",
       "    <tr>\n",
       "      <th>7</th>\n",
       "      <td>whisperers</td>\n",
       "      <td>1.689940</td>\n",
       "      <td>-2.390344</td>\n",
       "    </tr>\n",
       "    <tr>\n",
       "      <th>8</th>\n",
       "      <td>Rushing</td>\n",
       "      <td>-3.678174</td>\n",
       "      <td>1.633046</td>\n",
       "    </tr>\n",
       "    <tr>\n",
       "      <th>9</th>\n",
       "      <td>fostered</td>\n",
       "      <td>6.494853</td>\n",
       "      <td>1.927716</td>\n",
       "    </tr>\n",
       "  </tbody>\n",
       "</table>\n",
       "</div>"
      ],
      "text/plain": [
       "         word         x         y\n",
       "0       moods -1.616215 -6.849025\n",
       "1        room -1.680754 -5.192649\n",
       "2    watching -6.656103  3.101132\n",
       "3      ceased  2.675542 -0.979468\n",
       "4   spearwife -3.228305 -0.018428\n",
       "5     replace -1.373847  2.740165\n",
       "6     cleared -5.682993  2.713599\n",
       "7  whisperers  1.689940 -2.390344\n",
       "8     Rushing -3.678174  1.633046\n",
       "9    fostered  6.494853  1.927716"
      ]
     },
     "execution_count": 38,
     "metadata": {},
     "output_type": "execute_result"
    }
   ],
   "source": [
    "points.head(10)\n"
   ]
  },
  {
   "cell_type": "code",
   "execution_count": 39,
   "metadata": {
    "collapsed": true
   },
   "outputs": [],
   "source": [
    "sns.set_context(\"poster\")\n"
   ]
  },
  {
   "cell_type": "code",
   "execution_count": 42,
   "metadata": {},
   "outputs": [
    {
     "data": {
      "text/plain": [
       "<matplotlib.axes._subplots.AxesSubplot at 0x2b381bc5630>"
      ]
     },
     "execution_count": 42,
     "metadata": {},
     "output_type": "execute_result"
    }
   ],
   "source": [
    "points.plot.scatter(\"x\", \"y\", s=10, figsize=(20, 12))\n"
   ]
  },
  {
   "cell_type": "code",
   "execution_count": 43,
   "metadata": {
    "collapsed": true
   },
   "outputs": [],
   "source": [
    "\n",
    "def plot_region(x_bounds, y_bounds):\n",
    "    slice = points[\n",
    "        (x_bounds[0] <= points.x) &\n",
    "        (points.x <= x_bounds[1]) & \n",
    "        (y_bounds[0] <= points.y) &\n",
    "        (points.y <= y_bounds[1])\n",
    "    ]\n",
    "    \n",
    "    ax = slice.plot.scatter(\"x\", \"y\", s=35, figsize=(10, 8))\n",
    "    for i, point in slice.iterrows():\n",
    "        ax.text(point.x + 0.005, point.y + 0.005, point.word, fontsize=11)"
   ]
  },
  {
   "cell_type": "code",
   "execution_count": 44,
   "metadata": {
    "collapsed": true
   },
   "outputs": [],
   "source": [
    "plot_region(x_bounds=(4.0, 4.2), y_bounds=(-0.5, -0.1))\n"
   ]
  },
  {
   "cell_type": "code",
   "execution_count": null,
   "metadata": {
    "collapsed": true
   },
   "outputs": [],
   "source": []
  }
 ],
 "metadata": {
  "anaconda-cloud": {},
  "kernelspec": {
   "display_name": "Python [conda env:tensorflow]",
   "language": "python",
   "name": "conda-env-tensorflow-py"
  },
  "language_info": {
   "codemirror_mode": {
    "name": "ipython",
    "version": 3
   },
   "file_extension": ".py",
   "mimetype": "text/x-python",
   "name": "python",
   "nbconvert_exporter": "python",
   "pygments_lexer": "ipython3",
   "version": "3.5.3"
  }
 },
 "nbformat": 4,
 "nbformat_minor": 2
}

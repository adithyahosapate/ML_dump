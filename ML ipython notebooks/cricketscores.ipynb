{
 "cells": [
  {
   "cell_type": "code",
   "execution_count": 6,
   "metadata": {
    "collapsed": true
   },
   "outputs": [],
   "source": [
    "from urllib.request import urlopen,Request\n",
    "import requests\n",
    "import json\n"
   ]
  },
  {
   "cell_type": "code",
   "execution_count": 29,
   "metadata": {
    "collapsed": false
   },
   "outputs": [
    {
     "name": "stdout",
     "output_type": "stream",
     "text": [
      "{'query': {'results': {'Scorecard': {'v': '0', 'cts': '1497795536', 'mid': '194257', 'place': {'stadium': 'The Oval, London', 'date': '20170618093000', 'enddate': '20170618173000', 'Gimaget': 'https://s.yimg.com/qx/cricket/fufp/images/venue_81_thumb-13-7-2010-9e6ef802ecc7a586005d37833ae73146.jpg', 'city': 'London', 'vid': '81', 'country': 'England'}, 'teams': [{'i': '6', 'sn': 'PAK', 'logo': {'std': 'https://s.yimg.com/qx/cricket/fufp/images/pakistan-26-2-2013-f6f54d67dea9677b03ddc1c009c070f9.jpg', 'small': 'https://s.yimg.com/qx/cricket/fufp/images/pakistan_small-26-2-2013-6af95f1da13f29b8ef5ccfbf3cb89648.jpg'}, 'fn': 'Pakistan', 'flag': {'std': 'https://s.yimg.com/qx/cricket/fufp/images/pakistan_flag-1-2-2011-f99a8132f62ed22d64b985c2ba0d65eb.gif', 'roundstd': 'https://s.yimg.com/qx/cricket/fufp/images/6-11-2-2012-e492bb0be566324796f25d3bcd2c3019.png', 'roundsmall': 'https://s.yimg.com/qx/cricket/fufp/images/6_s-11-2-2012-2ef4be67daf68f843f48115ff5ba8f1a.png', 'small': 'https://s.yimg.com/qx/cricket/fufp/images/pakistan_flag_small-1-2-2011-5bbc7ebe24b9bc2460e131bfc9cafd78.gif', 'roundlarge': 'https://s.yimg.com/qx/cricket/fufp/images/6_l-11-2-2012-472fc93551b80e5564b9fd0355191a4e.png'}}, {'i': '4', 'sn': 'IND', 'logo': {'std': 'https://s.yimg.com/qx/cricket/fufp/images/india-26-2-2013-7bc0143dc758960959d93127dcbe8f71.jpg', 'small': 'https://s.yimg.com/qx/cricket/fufp/images/india_small-26-2-2013-fd8756ab515d2b79ea0e3a43ac580615.jpg'}, 'fn': 'India', 'flag': {'std': 'https://s.yimg.com/qx/cricket/fufp/images/india_flag-1-2-2011-0fa2af8a7fb72b445cf841cf27ff119a.gif', 'roundstd': 'https://s.yimg.com/qx/cricket/fufp/images/4-11-2-2012-5651d44338907e593f94773398fac650.png', 'roundsmall': 'https://s.yimg.com/qx/cricket/fufp/images/4_s-11-2-2012-dd77610cb84ba225571610f4d3b52097.png', 'small': 'https://s.yimg.com/qx/cricket/fufp/images/india_flag_small-1-2-2011-19e94f1d1081d5dde82b381bf8c783b6.gif', 'roundlarge': 'https://s.yimg.com/qx/cricket/fufp/images/4_l-11-2-2012-b8ce58599a586b164189b090b45c07e1.png'}}], 'ecf': '0', 'toss': {'bat': '0', 'text': 'xxx-xxx-xxx', 'win': '4'}, 'mt': '2', 'mn': 'Final', 'ms': 'Play in Progress', 'past_ings': [{'s': {'ps': '0', 'pms': 'live', 'ldmsg': None, 'tz': '+01:00', 'i': '2', 'a': {'cp': {'bls': '30', 's': '1', 'cp': '25'}, 'b': '0', 'ru': '308', 'l': '0', 'wd': '0', 'ro': '42.2', 'i': '4', 'pt': '0', 'r': '31', 'nb': '0', 'fo': '0', 'rr': '7.27', 'w': '2', 'cr': '4.04', 'pp': '1', 'o': '7.4', 'tg': '339', 'lb': '1'}, 't': '1', 'ed': 'Power Play 1', 'ld': 'No', 'stay_live': 'Yes'}, 'd': {'a': {'t': [{'c': 'Batting', 'b': '17', 'bd': '0', 'six': '0', 'i': '3722', 'fd': '0', 'four': '4', 'name': 'Shikhar Dhawan', 'sr': '117.64705882353', 'cb': 'no', 'r': '20', 'a': '3', 'dt': None}, {'c': 'Batting', 'b': '17', 'bd': '0', 'six': '0', 'i': '3314', 'fd': '0', 'four': '1', 'name': 'Yuvraj Singh', 'sr': '29.411764705882', 'cb': 'no', 'r': '5', 'a': '2', 'dt': None}]}}}, {'s': {'ps': '0', 'pms': 'live', 'ldmsg': None, 'tz': '+01:00', 'i': '1', 'a': {'b': '0', 'l': '0', 'wd': '13', 'i': '6', 'pt': '0', 'r': '338', 'nb': '3', 'fo': '0', 'w': '4', 'cr': '6.76', 'pp': '3', 'o': '50', 'lb': '9'}, 't': '1', 'ed': 'Power Play 3', 'ld': 'No', 'stay_live': 'Yes'}}], 'result': '0', 'series': {'series_name': 'Champions Trophy, 2017', 'series_id': '12492'}, 'm': '2'}}, 'count': 1, 'diagnostics': {'build-version': '2.0.137', 'cache': {'method': 'GET', 'type': 'MEMCACHED', 'execution-time': '2', 'execution-start-time': '0', 'content': 'TABLE.queryyahooapiscomproductiongq1.cricket.scorecard.live.summary.4daacfcfafc467783e90b0c5c31a615f', 'execution-stop-time': '2'}, 'publiclyCallable': 'true', 'url': {'execution-stop-time': '8', 'execution-time': '6', 'execution-start-time': '2', 'content': 'http://cricketwebservice/ws/cwsapi/live/livematches.php?output=summary'}, 'service-time': '8', 'user-time': '9'}, 'created': '2017-06-18T14:19:34Z', 'lang': 'en-US'}}\n",
      "31/2\n"
     ]
    }
   ],
   "source": [
    "url=\"https://query.yahooapis.com/v1/public/yql?q=select%20*%20from%20cricket.scorecard.live.summary&format=json&diagnostics=true&env=store%3A%2F%2F0TxIGQMQbObzvU4Apia0V0&callback=\"\n",
    "request=Request(url)\n",
    "response=urlopen(request)\n",
    "html=response.read().decode('utf-8')\n",
    "response.close()\n",
    "print(json.loads(html))\n",
    "scorecard=json.loads(html)\n",
    "print(scorecard[\"query\"][\"results\"][\"Scorecard\"][\"past_ings\"][0][\"s\"][\"a\"][\"r\"],end=\"/\")\n",
    "print(scorecard[\"query\"][\"results\"][\"Scorecard\"][\"past_ings\"][0][\"s\"][\"a\"][\"w\"])\n",
    "   # print(obj)\n",
    "    "
   ]
  },
  {
   "cell_type": "code",
   "execution_count": 38,
   "metadata": {
    "collapsed": false
   },
   "outputs": [
    {
     "name": "stdout",
     "output_type": "stream",
     "text": [
      "50/3\n",
      "50/3\n",
      "50/3\n",
      "51/3\n",
      "51/3\n",
      "54/3\n",
      "54/3\n",
      "54/3\n",
      "54/4\n",
      "54/4\n",
      "54/4\n",
      "54/5\n",
      "54/5\n",
      "54/5\n",
      "55/5\n",
      "56/5\n",
      "62/5\n",
      "62/5\n",
      "63/5\n",
      "63/5\n",
      "63/5\n",
      "67/5\n",
      "67/5\n",
      "72/5\n",
      "72/6\n",
      "72/6\n",
      "72/6\n",
      "80/6\n",
      "80/6\n",
      "80/6\n",
      "80/6\n",
      "89/6\n",
      "88/6\n",
      "89/6\n",
      "92/6\n",
      "92/6\n",
      "92/6\n",
      "93/6\n",
      "93/6\n",
      "93/6\n",
      "101/6\n",
      "102/6\n",
      "103/6\n",
      "104/6\n",
      "104/6\n",
      "117/6\n",
      "127/6\n",
      "117/6\n",
      "128/6\n",
      "130/6\n",
      "133/6\n",
      "134/6\n",
      "136/6\n",
      "138/6\n",
      "138/6\n",
      "146/6\n",
      "152/6\n",
      "146/6\n",
      "152/6\n",
      "152/7\n",
      "152/7\n",
      "152/7\n",
      "154/7\n",
      "155/7\n",
      "156/7\n",
      "155/7\n",
      "156/8\n",
      "156/8\n",
      "156/8\n",
      "156/8\n",
      "156/9\n",
      "156/9\n",
      "156/9\n",
      "156/9\n",
      "156/9\n",
      "156/9\n",
      "156/9\n"
     ]
    },
    {
     "ename": "KeyboardInterrupt",
     "evalue": "",
     "output_type": "error",
     "traceback": [
      "\u001b[1;31m---------------------------------------------------------------------------\u001b[0m",
      "\u001b[1;31mKeyboardInterrupt\u001b[0m                         Traceback (most recent call last)",
      "\u001b[1;32m<ipython-input-38-8fe26e858970>\u001b[0m in \u001b[0;36m<module>\u001b[1;34m()\u001b[0m\n\u001b[0;32m     12\u001b[0m     \u001b[0mprint\u001b[0m\u001b[1;33m(\u001b[0m\u001b[0mscorecard\u001b[0m\u001b[1;33m[\u001b[0m\u001b[1;34m\"query\"\u001b[0m\u001b[1;33m]\u001b[0m\u001b[1;33m[\u001b[0m\u001b[1;34m\"results\"\u001b[0m\u001b[1;33m]\u001b[0m\u001b[1;33m[\u001b[0m\u001b[1;34m\"Scorecard\"\u001b[0m\u001b[1;33m]\u001b[0m\u001b[1;33m[\u001b[0m\u001b[1;34m\"past_ings\"\u001b[0m\u001b[1;33m]\u001b[0m\u001b[1;33m[\u001b[0m\u001b[1;36m0\u001b[0m\u001b[1;33m]\u001b[0m\u001b[1;33m[\u001b[0m\u001b[1;34m\"s\"\u001b[0m\u001b[1;33m]\u001b[0m\u001b[1;33m[\u001b[0m\u001b[1;34m\"a\"\u001b[0m\u001b[1;33m]\u001b[0m\u001b[1;33m[\u001b[0m\u001b[1;34m\"r\"\u001b[0m\u001b[1;33m]\u001b[0m\u001b[1;33m,\u001b[0m\u001b[0mend\u001b[0m\u001b[1;33m=\u001b[0m\u001b[1;34m\"/\"\u001b[0m\u001b[1;33m)\u001b[0m\u001b[1;33m\u001b[0m\u001b[0m\n\u001b[0;32m     13\u001b[0m     \u001b[0mprint\u001b[0m\u001b[1;33m(\u001b[0m\u001b[0mscorecard\u001b[0m\u001b[1;33m[\u001b[0m\u001b[1;34m\"query\"\u001b[0m\u001b[1;33m]\u001b[0m\u001b[1;33m[\u001b[0m\u001b[1;34m\"results\"\u001b[0m\u001b[1;33m]\u001b[0m\u001b[1;33m[\u001b[0m\u001b[1;34m\"Scorecard\"\u001b[0m\u001b[1;33m]\u001b[0m\u001b[1;33m[\u001b[0m\u001b[1;34m\"past_ings\"\u001b[0m\u001b[1;33m]\u001b[0m\u001b[1;33m[\u001b[0m\u001b[1;36m0\u001b[0m\u001b[1;33m]\u001b[0m\u001b[1;33m[\u001b[0m\u001b[1;34m\"s\"\u001b[0m\u001b[1;33m]\u001b[0m\u001b[1;33m[\u001b[0m\u001b[1;34m\"a\"\u001b[0m\u001b[1;33m]\u001b[0m\u001b[1;33m[\u001b[0m\u001b[1;34m\"w\"\u001b[0m\u001b[1;33m]\u001b[0m\u001b[1;33m)\u001b[0m\u001b[1;33m\u001b[0m\u001b[0m\n\u001b[1;32m---> 14\u001b[1;33m     \u001b[0mtime\u001b[0m\u001b[1;33m.\u001b[0m\u001b[0msleep\u001b[0m\u001b[1;33m(\u001b[0m\u001b[1;36m60\u001b[0m \u001b[1;33m-\u001b[0m \u001b[1;33m(\u001b[0m\u001b[1;33m(\u001b[0m\u001b[0mtime\u001b[0m\u001b[1;33m.\u001b[0m\u001b[0mtime\u001b[0m\u001b[1;33m(\u001b[0m\u001b[1;33m)\u001b[0m \u001b[1;33m-\u001b[0m \u001b[0mstarttime\u001b[0m\u001b[1;33m)\u001b[0m \u001b[1;33m%\u001b[0m \u001b[1;36m60.0\u001b[0m\u001b[1;33m)\u001b[0m\u001b[1;33m)\u001b[0m\u001b[1;33m\u001b[0m\u001b[0m\n\u001b[0m\u001b[0;32m     15\u001b[0m     \u001b[1;32mwith\u001b[0m \u001b[0mopen\u001b[0m\u001b[1;33m(\u001b[0m\u001b[1;34m\"scores.txt \"\u001b[0m\u001b[1;33m,\u001b[0m\u001b[1;34m\"a\"\u001b[0m\u001b[1;33m)\u001b[0m \u001b[1;32mas\u001b[0m \u001b[0mfp\u001b[0m\u001b[1;33m:\u001b[0m\u001b[1;33m\u001b[0m\u001b[0m\n\u001b[0;32m     16\u001b[0m         \u001b[0mfp\u001b[0m\u001b[1;33m.\u001b[0m\u001b[0mwrite\u001b[0m\u001b[1;33m(\u001b[0m\u001b[0ma\u001b[0m\u001b[1;33m+\u001b[0m\u001b[1;34m\"/\"\u001b[0m\u001b[1;33m+\u001b[0m\u001b[0mb\u001b[0m\u001b[1;33m)\u001b[0m\u001b[1;33m\u001b[0m\u001b[0m\n",
      "\u001b[1;31mKeyboardInterrupt\u001b[0m: "
     ]
    }
   ],
   "source": [
    "import time\n",
    "starttime=time.time()\n",
    "while True:\n",
    "    url=\"https://query.yahooapis.com/v1/public/yql?q=select%20*%20from%20cricket.scorecard.live.summary&format=json&diagnostics=true&env=store%3A%2F%2F0TxIGQMQbObzvU4Apia0V0&callback=\"\n",
    "    request=Request(url)\n",
    "    response=urlopen(request)\n",
    "    html=response.read().decode('utf-8')\n",
    "    response.close()\n",
    "    scorecard=json.loads(html)\n",
    "    a=scorecard[\"query\"][\"results\"][\"Scorecard\"][\"past_ings\"][0][\"s\"][\"a\"][\"r\"]\n",
    "    b=scorecard[\"query\"][\"results\"][\"Scorecard\"][\"past_ings\"][0][\"s\"][\"a\"][\"w\"]\n",
    "    print(scorecard[\"query\"][\"results\"][\"Scorecard\"][\"past_ings\"][0][\"s\"][\"a\"][\"r\"],end=\"/\")\n",
    "    print(scorecard[\"query\"][\"results\"][\"Scorecard\"][\"past_ings\"][0][\"s\"][\"a\"][\"w\"])\n",
    "    time.sleep(60 - ((time.time() - starttime) % 60.0))\n",
    "    with open(\"scores.txt \",\"a\") as fp:\n",
    "        fp.write(a+\"/\"+b)\n",
    "        fp.write(\"\\n\")\n",
    "        fp.close()\n",
    "        \n",
    "        \n"
   ]
  },
  {
   "cell_type": "code",
   "execution_count": null,
   "metadata": {
    "collapsed": true
   },
   "outputs": [],
   "source": []
  },
  {
   "cell_type": "code",
   "execution_count": null,
   "metadata": {
    "collapsed": true
   },
   "outputs": [],
   "source": []
  },
  {
   "cell_type": "code",
   "execution_count": null,
   "metadata": {
    "collapsed": true
   },
   "outputs": [],
   "source": []
  },
  {
   "cell_type": "code",
   "execution_count": null,
   "metadata": {
    "collapsed": true
   },
   "outputs": [],
   "source": []
  }
 ],
 "metadata": {
  "anaconda-cloud": {},
  "kernelspec": {
   "display_name": "Python 3",
   "language": "python",
   "name": "python3"
  },
  "language_info": {
   "codemirror_mode": {
    "name": "ipython",
    "version": 3
   },
   "file_extension": ".py",
   "mimetype": "text/x-python",
   "name": "python",
   "nbconvert_exporter": "python",
   "pygments_lexer": "ipython3",
   "version": "3.6.0"
  }
 },
 "nbformat": 4,
 "nbformat_minor": 2
}

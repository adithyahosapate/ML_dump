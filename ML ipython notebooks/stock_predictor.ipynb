{
 "cells": [
  {
   "cell_type": "code",
   "execution_count": 2,
   "metadata": {
    "collapsed": false
   },
   "outputs": [
    {
     "name": "stderr",
     "output_type": "stream",
     "text": [
      "Using TensorFlow backend.\n"
     ]
    }
   ],
   "source": [
    "import tensorflow as tf\n",
    "import pandas as pd\n",
    "import numpy as np \n",
    "import keras\n",
    "import matplotlib.pyplot as plt\n",
    "import os\n",
    "import warnings\n",
    "from keras.models import Sequential\n",
    "from keras.layers.core import Dense, Activation, Dropout\n",
    "from keras.layers.recurrent import LSTM\n"
   ]
  },
  {
   "cell_type": "code",
   "execution_count": 4,
   "metadata": {
    "collapsed": false
   },
   "outputs": [
    {
     "name": "stdout",
     "output_type": "stream",
     "text": [
      "           Date    Open    High     Low   Close   Volume\n",
      "1257  29-May-12  298.20  299.86  294.45  297.47  2606651\n",
      "1256  30-May-12  294.37  296.25  292.06  294.41  1906629\n",
      "1255  31-May-12  294.65  295.29  289.79  290.72  2969455\n",
      "1254   1-Jun-12  286.18  286.61  284.46  285.78  3058314\n",
      "1253   4-Jun-12  285.40  290.54  285.29  289.58  2433786\n",
      "1252   5-Jun-12  288.01  289.35  283.52  285.49  2340477\n",
      "1251   6-Jun-12  288.53  291.28  287.09  290.58  2096173\n",
      "1250   7-Jun-12  294.09  294.24  288.91  289.40  1759532\n",
      "1249   8-Jun-12  288.21  290.79  287.58  290.52  1410366\n",
      "1248  11-Jun-12  292.40  292.95  283.63  284.53  2662269\n",
      "1247  12-Jun-12  285.17  285.44  279.57  282.83  3224142\n",
      "1246  13-Jun-12  281.14  283.78  279.62  280.83  1954607\n",
      "1245  14-Jun-12  280.93  282.82  278.54  279.80  2345107\n",
      "1244  15-Jun-12  280.45  282.54  278.82  282.54  3002511\n",
      "1243  18-Jun-12  281.59  287.39  279.90  285.71  2497864\n",
      "1242  19-Jun-12  287.08  292.43  286.85  291.06  2076629\n",
      "1241  20-Jun-12  290.19  290.29  287.04  289.04  2346698\n",
      "1240  21-Jun-12  290.21  290.21  282.15  282.89  2011322\n",
      "1239  22-Jun-12  284.28  286.03  283.19  286.03  2229125\n",
      "1238  25-Jun-12  283.95  284.33  278.95  280.63  1582036\n",
      "1237  26-Jun-12  281.66  283.58  280.02  282.62  1351151\n",
      "1236  27-Jun-12  284.13  287.28  283.29  284.94  1692446\n",
      "1235  28-Jun-12  283.23  283.40  278.88  282.44  1922064\n",
      "1234  29-Jun-12  287.77  290.36  286.39  290.33  2522562\n",
      "1233   2-Jul-12  291.20  291.79  288.54  290.53  1655563\n",
      "1232   3-Jul-12  290.30  294.50  289.29  294.21  1190525\n",
      "1231   5-Jul-12  294.67  300.33  294.56  298.26  2345901\n",
      "1230   6-Jul-12  296.52  297.06  291.70  293.28  2162328\n",
      "1229   9-Jul-12  292.77  294.59  290.92  293.30  1715020\n",
      "1228  10-Jul-12  295.39  296.51  289.66  291.14  1923015\n",
      "...         ...     ...     ...     ...     ...      ...\n",
      "29    17-Apr-17  841.38  855.64  841.03  855.13  1049125\n",
      "28    18-Apr-17  852.54  857.39  851.25  853.99   936201\n",
      "27    19-Apr-17  857.38  860.20  853.53  856.51  1080336\n",
      "26    20-Apr-17  859.74  863.93  857.50  860.08  1188843\n",
      "25    21-Apr-17  860.62  862.44  857.73  858.95  1172870\n",
      "24    24-Apr-17  868.44  879.96  866.11  878.93  1696483\n",
      "23    25-Apr-17  882.26  892.25  879.28  888.84  2038032\n",
      "22    26-Apr-17  891.39  892.99  885.15  889.14  1323297\n",
      "21    27-Apr-17  890.00  893.38  887.18  891.44  2342303\n",
      "20    28-Apr-17  929.00  935.90  923.22  924.52  3845857\n",
      "19     1-May-17  924.15  935.82  920.80  932.82  2327782\n",
      "18     2-May-17  933.27  942.98  931.00  937.09  1751292\n",
      "17     3-May-17  936.05  950.20  935.21  948.45  1824759\n",
      "16     4-May-17  950.29  959.14  947.37  954.72  1938260\n",
      "15     5-May-17  956.72  958.44  948.10  950.28  1615548\n",
      "14     8-May-17  947.45  960.99  947.40  958.69  1876690\n",
      "13     9-May-17  961.33  962.20  954.40  956.71  1687942\n",
      "12    10-May-17  956.22  956.71  949.84  954.84  1145969\n",
      "11    11-May-17  951.29  957.99  948.61  955.89  1031093\n",
      "10    12-May-17  957.85  957.98  952.06  955.14  1214851\n",
      "9     15-May-17  955.29  962.70  952.82  959.22  1337697\n",
      "8     16-May-17  963.55  965.90  960.35  964.61  1101544\n",
      "7     17-May-17  959.70  960.99  940.06  942.17  2449058\n",
      "6     18-May-17  943.20  954.18  941.27  950.50  1800465\n",
      "5     19-May-17  952.82  959.56  952.00  954.65  1360299\n",
      "4     22-May-17  957.00  964.82  956.56  964.07  1387392\n",
      "3     23-May-17  969.96  974.51  964.50  970.55  1545421\n",
      "2     24-May-17  975.26  978.12  971.63  977.61  1142488\n",
      "1     25-May-17  979.00  995.78  977.82  991.86  1954149\n",
      "0     26-May-17  992.00  996.39  987.36  993.27  1636416\n",
      "\n",
      "[1258 rows x 6 columns]\n"
     ]
    }
   ],
   "source": [
    "df=pd.read_csv('data_for_stock_predictor.csv',delimiter=',')\n",
    "df.drop(labels='Date',axis=1)\n",
    "\n",
    "df = df.iloc[::-1]\n",
    "\n",
    "os.environ['TF_CPP_MIN_LOG_LEVEL'] = '3' \n",
    "warnings.filterwarnings(\"ignore\")\n",
    "print(df)"
   ]
  },
  {
   "cell_type": "code",
   "execution_count": 70,
   "metadata": {
    "collapsed": false
   },
   "outputs": [
    {
     "name": "stdout",
     "output_type": "stream",
     "text": [
      "406.07\n",
      "[ 851.15  853.64  857.84  861.4   864.58  865.91  868.39  870.    872.37\n",
      "  867.91  850.14  849.8   839.65  835.14  838.51  840.63  849.87  849.48\n",
      "  847.8   856.75  852.57  848.91  845.1   842.1   841.7   839.88  841.46\n",
      "  840.18  855.13  853.99  856.51  860.08  858.95  878.93  888.84  889.14\n",
      "  891.44  924.52  932.82  937.09  948.45  954.72  950.28  958.69  956.71\n",
      "  954.84  955.89  955.14  959.22  964.61  942.17  950.5   954.65  964.07\n",
      "  970.55  977.61  991.86  993.27]\n",
      "['18-Mar-13' 402.89999999999998 406.79000000000002 401.13999999999999\n",
      " 404.30000000000001 1838552]\n"
     ]
    },
    {
     "data": {
      "text/plain": [
       "(1000, 1, 5)"
      ]
     },
     "execution_count": 70,
     "metadata": {},
     "output_type": "execute_result"
    }
   ],
   "source": [
    "\n",
    "X_train=df[200:1200]\n",
    "\n",
    "Y_train=np.array([df['Close'][1257-i-1] for i in range (200,1200)])\n",
    "\n",
    "normalizer=Y_train[0]\n",
    "print(normalizer)\n",
    "Y_train=np.array([Y_train/normalizer-1])\n",
    "Y_train=np.reshape(Y_train,[-1,1])\n",
    "\n",
    "X_test=df[1200:]\n",
    "Y_test=np.array([df['Close'][1257-i-1] for i in range (1199,1257)])\n",
    "print(Y_test)\n",
    "\n",
    "Y_test=np.array([Y_test/normalizer-1])\n",
    "\n",
    "\n",
    "\n",
    "epoch=10\n",
    "num_features=5\n",
    "train_features=np.array([X_train[label] for label in list(X_train)])\n",
    "print(train_features[:,0])\n",
    "normalised_features1=[train_features[j]/train_features[j,0]-1 for j in range(1,6)]\n",
    "test_features=np.array([X_test[label] for label in list(X_test)])\n",
    "normalised_features2=[test_features[j]/train_features[j,0]-1 for j in range(1,6)]\n",
    "train_features=np.reshape(np.transpose(normalised_features1),[-1,1,num_features])\n",
    "\n",
    "\n",
    "test_features=np.reshape(np.transpose(normalised_features2),[-1,1,num_features])\n",
    "np.shape(train_features)\n"
   ]
  },
  {
   "cell_type": "code",
   "execution_count": 64,
   "metadata": {
    "collapsed": false
   },
   "outputs": [
    {
     "name": "stdout",
     "output_type": "stream",
     "text": [
      "[[[1.1029039463886821 1.0977162663782294 1.1077927905469411\n",
      "   1.1052436309671037 -0.43504671067231171]]\n",
      "\n",
      " [[1.1174484983866968 1.1065660414464462 1.1220770803210849\n",
      "   1.1114024239426166 -0.43986680822734414]]\n",
      "\n",
      " [[1.1188632414991315 1.1158583052680746 1.125616991574014\n",
      "   1.1217907494434827 -0.26697912270090807]]\n",
      "\n",
      " [[1.1412261106974437 1.1245114186681087 1.1379318941018099\n",
      "   1.1305960920108831 -0.2730230094117545]]\n",
      "\n",
      " [[1.1365847604864734 1.1316404041397279 1.1459340878496289\n",
      "   1.1384615384615384 -0.36547620083631027]]\n",
      "\n",
      " [[1.1438322164308761 1.132746626023255 1.1442139901281347\n",
      "   1.1417511748701457 -0.42253904159360189]]\n",
      "\n",
      " [[1.1542318193100027 1.138400648983505 1.1471306775689287\n",
      "   1.1478852337373238 -0.27503546269020407]]\n",
      "\n",
      " [[1.1606602134524695 1.1453575554954645 1.1626364860148577\n",
      "   1.1518674251793222 -0.39928160857022266]]\n",
      "\n",
      " [[1.1684785306527674 1.1495611986528673 1.1647554469761183\n",
      "   1.1577294088548107 0.01615401685674378]]\n",
      "\n",
      " [[1.1580541077190372 1.1395314535755547 1.1555068056040283\n",
      "   1.1466979965372248 -0.16118826119685492]]\n",
      "\n",
      " [[1.1594936708860759 1.1472258413431993 1.1132023732362768\n",
      "   1.1027454860252286 0.380422201819693]]\n",
      "\n",
      " [[1.1084139985107968 1.1026819734998403 1.1114822755147831\n",
      "   1.101904526341825 -0.25661662003576724]]\n",
      "\n",
      " [[1.0883345743360637 1.0691019936576613 1.0765817420352 1.0767994063813999\n",
      "   0.78818385338026875]]\n",
      "\n",
      " [[1.089848597666915 1.0747805993264339 1.0668594505658873\n",
      "   1.0656443235221369 0.1452936876411437]]\n",
      "\n",
      " [[1.0553239017125842 1.0683399296934537 1.0548935533728874\n",
      "   1.0739797180311648 0.052573438227474734]]\n",
      "\n",
      " [[1.0841151650533636 1.0782221785196291 1.0747369995512788\n",
      "   1.0792233489982683 -0.17369647418185619]]\n",
      "\n",
      " [[1.0917101017622239 1.0934142923867354 1.0974722042179788\n",
      "   1.1020776651001731 -0.20733979784090961]]\n",
      "\n",
      " [[1.1146190121618269 1.0944467661446939 1.1109089096076183\n",
      "   1.1011130348750928 -0.48361645468825465]]\n",
      "\n",
      " [[1.101836684040705 1.0884485852651244 1.1070947798773498\n",
      "   1.0969577046747463 -0.21624082430086289]]\n",
      "\n",
      " [[1.1066021345246959 1.1116546621106713 1.1128035099965099\n",
      "   1.1190947316349247 0.071170138239223135]]\n",
      "\n",
      " [[1.104740630429387 1.0969050369969762 1.1127287231390537\n",
      "   1.1087558743507295 -0.2665456293866042]]\n",
      "\n",
      " [[1.1213948870687518 1.1155633127658007 1.1127785810440245\n",
      "   1.0997031906999752 0.009029388344740763]]\n",
      "\n",
      " [[1.1084636386200053 1.0983554167998228 1.104003589769158\n",
      "   1.0902794954241899 -0.16588489202372303]]\n",
      "\n",
      " [[1.0972946140481512 1.0794021485287248 1.0873011916039288\n",
      "   1.0828592629235718 -0.39538832733585993]]\n",
      "\n",
      " [[1.0887068751551254 1.0815162614616876 1.0960013960213391\n",
      "   1.0818698985901558 -0.43095707926672733]]\n",
      "\n",
      " [[1.0891039960287916 1.0763293099633717 1.0805703744328663\n",
      "   1.0773682908731139 -0.47004871224746436]]\n",
      "\n",
      " [[1.0810622983370566 1.0740922834877948 1.0880241312260059\n",
      "   1.0812762799901066 -0.38224483180241842]]\n",
      "\n",
      " [[1.0874658724249193 1.0741168661963174 1.0886722839906269\n",
      "   1.0781103141231756 -0.41603501016016953]]\n",
      "\n",
      " [[1.0883097542814597 1.1033948720470019 1.0965996908809892\n",
      "   1.1150878060845906 -0.42937431195854125]]\n",
      "\n",
      " [[1.1160089352196576 1.1076968460384964 1.1220770803210849\n",
      "   1.1122681177343559 -0.4907943860168219]]\n",
      "\n",
      " [[1.1280218416480516 1.1146045871334103 1.12776088148776 1.118501113034875\n",
      "   -0.412398452695382]]\n",
      "\n",
      " [[1.1338793745346241 1.123773937412424 1.1376576756244705\n",
      "   1.1273311897106111 -0.35338081272653699]]\n",
      "\n",
      " [[1.1360635393397867 1.120111113842523 1.1382310415316348\n",
      "   1.1245362354687116 -0.36206862792023287]]\n",
      "\n",
      " [[1.1554728220402088 1.1631800191745127 1.159121503714414\n",
      "   1.1739549839228296 -0.077272222923256972]]\n",
      "\n",
      " [[1.1897741375031026 1.1933921679490647 1.1919529341377078\n",
      "   1.1984664852832054 0.10849842702300516]]\n",
      "\n",
      " [[1.2124348473566644 1.1952112883797534 1.2065862292466472\n",
      "   1.1992085085332671 -0.28025043621284573]]\n",
      "\n",
      " [[1.2089848597666917 1.1961700140121438 1.2116468066011867\n",
      "   1.2048973534504084 0.27399333823574201]]\n",
      "\n",
      " [[1.3057830727227602 1.3006956906511959 1.301490751358628\n",
      "   1.2867177838238932 1.0917858184049187]]\n",
      "\n",
      " [[1.2937453462397617 1.3004990289830132 1.2954579448571573\n",
      "   1.3072470937422707 0.26609527497726471]]\n",
      "\n",
      " [[1.3163812360387195 1.3181002482853561 1.3208854763922822\n",
      "   1.317808558001484 -0.047461262993921283]]\n",
      "\n",
      " [[1.3232812112186645 1.3358489638388358 1.3313805653886424\n",
      "   1.3459065050704924 -0.0075020994782850625]]\n",
      "\n",
      " [[1.3586249689749317 1.3578259052582413 1.361694171610909\n",
      "   1.3614147909967844 0.054231808510175394]]\n",
      "\n",
      " [[1.3745842640853811 1.3561051156616437 1.3635139851423443\n",
      "   1.3504328468958691 -0.1212932786236125]]\n",
      "\n",
      " [[1.3515760734673621 1.3623737063349637 1.3617689584683652\n",
      "   1.3712342320059361 0.02074349814419163]]\n",
      "\n",
      " [[1.3860263092578804 1.3653482140662256 1.379219225208157\n",
      "   1.3663368785555279 -0.081917726558726645]]\n",
      "\n",
      " [[1.373343261355175 1.3518523070871948 1.3678516228748068\n",
      "   1.3617116002968093 -0.37670025106714411]]\n",
      "\n",
      " [[1.3611069744353439 1.3549988937781166 1.3647853617191008\n",
      "   1.3643086816720258 -0.4391820302063798]]\n",
      "\n",
      " [[1.3773889302556466 1.3549743110695935 1.373385850326569\n",
      "   1.3624536235468709 -0.33923489789791095]]\n",
      "\n",
      " [[1.3710349962769919 1.366577349492367 1.375280450715461\n",
      "   1.3725451397477122 -0.27241818561563669]]\n",
      "\n",
      " [[1.3915363613799951 1.3744438162196708 1.3940519519369796\n",
      "   1.3858768241404897 -0.40086328806582572]]\n",
      "\n",
      " [[1.3819806403574089 1.3623737063349637 1.3434711073440693\n",
      "   1.3303734850358642 0.3320580543819267]]\n",
      "\n",
      " [[1.3410275502606108 1.34563288183092 1.3464875105948049\n",
      "   1.3509769972792478 -0.020715758923326666]]\n",
      "\n",
      " [[1.3649044427897743 1.3588583790161999 1.373236276611657\n",
      "   1.3612416522384367 -0.26012481561576717]]\n",
      "\n",
      " [[1.3752792256142965 1.3717888836992058 1.3846038789450068\n",
      "   1.3845411822903784 -0.24538876246089314]]\n",
      "\n",
      " [[1.4074460163812361 1.3956095282578231 1.4043974672184274\n",
      "   1.4005688844917139 -0.15943579512572936]]\n",
      "\n",
      " [[1.4206006453214197 1.404483886034563 1.4221718103405294\n",
      "   1.4180311649765027 -0.37859358886776118]]\n",
      "\n",
      " [[1.4298833457433608 1.4478969492858722 1.4376028319290026\n",
      "   1.4532772693544396 0.062873935575387563]]\n",
      "\n",
      " [[1.462149416728717 1.4493964945057645 1.46138505260009 1.4567647786297302\n",
      "   -0.10994304213315698]]]\n"
     ]
    }
   ],
   "source": [
    "#model \n",
    "print(test_features)\n",
    "          \n",
    "          \n",
    "          \n",
    "          \n",
    "          "
   ]
  },
  {
   "cell_type": "code",
   "execution_count": 59,
   "metadata": {
    "collapsed": true
   },
   "outputs": [],
   "source": [
    "model=Sequential()\n",
    "model.add(LSTM(input_dim=5,output_dim=50,return_sequences=True))\n",
    "model.add(Dropout(0.2))\n",
    "model.add(LSTM(200,return_sequences=False))\n",
    "model.add(Dropout(0.2))          \n",
    "model.add(Dense(output_dim=1))\n",
    "model.add(Activation('linear'))\n",
    "\n",
    "model.compile(loss='mse',optimizer='rmsprop')\n",
    "          "
   ]
  },
  {
   "cell_type": "code",
   "execution_count": 60,
   "metadata": {
    "collapsed": false
   },
   "outputs": [
    {
     "name": "stdout",
     "output_type": "stream",
     "text": [
      "Epoch 1/10\n",
      "1000/1000 [==============================] - 2s - loss: 0.1449     \n",
      "Epoch 2/10\n",
      "1000/1000 [==============================] - 0s - loss: 0.0110     \n",
      "Epoch 3/10\n",
      "1000/1000 [==============================] - 0s - loss: 0.0056     \n",
      "Epoch 4/10\n",
      "1000/1000 [==============================] - 0s - loss: 0.0046     \n",
      "Epoch 5/10\n",
      "1000/1000 [==============================] - 0s - loss: 0.0036     \n",
      "Epoch 6/10\n",
      "1000/1000 [==============================] - 0s - loss: 0.0040     \n",
      "Epoch 7/10\n",
      "1000/1000 [==============================] - 0s - loss: 0.0041     \n",
      "Epoch 8/10\n",
      "1000/1000 [==============================] - 0s - loss: 0.0037     \n",
      "Epoch 9/10\n",
      "1000/1000 [==============================] - 0s - loss: 0.0040     \n",
      "Epoch 10/10\n",
      "1000/1000 [==============================] - 0s - loss: 0.0037     \n"
     ]
    },
    {
     "data": {
      "text/plain": [
       "<keras.callbacks.History at 0x166fa4a19e8>"
      ]
     },
     "execution_count": 60,
     "metadata": {},
     "output_type": "execute_result"
    }
   ],
   "source": [
    "model.fit(train_features,Y_train,batch_size=50,nb_epoch=epoch)\n"
   ]
  },
  {
   "cell_type": "code",
   "execution_count": 63,
   "metadata": {
    "collapsed": false
   },
   "outputs": [
    {
     "name": "stdout",
     "output_type": "stream",
     "text": [
      "[ 1.04373932  1.05478096  1.0618062   1.07517695  1.07887149  1.08125412\n",
      "  1.08859551  1.09597087  1.10281706  1.09204841  1.07638443  1.04771328\n",
      "  1.0200721   1.01810575  1.00566196  1.02133107  1.03760028  1.04559755\n",
      "  1.03999317  1.05488396  1.04680133  1.05570626  1.04268956  1.02785254\n",
      "  1.02747571  1.02154541  1.02165771  1.02272129  1.04096818  1.05455232\n",
      "  1.06300688  1.07169127  1.0707407   1.10509908  1.1363399   1.1454401\n",
      "  1.14836991  1.23929465  1.24287736  1.26188922  1.27751184  1.30392766\n",
      "  1.30550849  1.30537367  1.31847167  1.30625153  1.30316138  1.30988169\n",
      "  1.31436276  1.32876277  1.30077779  1.28971434  1.3075459   1.32189059\n",
      "  1.34597695  1.35892987  1.38658321  1.40178132]\n",
      "[[ 1.09606718  1.10219913  1.11254217  1.12130913  1.1291403   1.13241559\n",
      "   1.13852291  1.14248775  1.14832418  1.13734085  1.09357992  1.09274263\n",
      "   1.06774694  1.05664048  1.06493954  1.07016032  1.09291501  1.09195459\n",
      "   1.08781737  1.10985791  1.09956411  1.09055089  1.08116827  1.07378038\n",
      "   1.07279533  1.06831334  1.0722043   1.06905213  1.10586845  1.10306105\n",
      "   1.10926688  1.11805846  1.11527569  1.16447903  1.18888369  1.18962248\n",
      "   1.19528653  1.27675031  1.29719014  1.30770557  1.33568104  1.35112173\n",
      "   1.34018765  1.36089837  1.35602236  1.35141724  1.354003    1.35215603\n",
      "   1.36220356  1.37547713  1.32021573  1.34072943  1.35094934  1.37414731\n",
      "   1.39010515  1.40749132  1.44258379  1.4460561 ]]\n"
     ]
    }
   ],
   "source": [
    "prediction=model.predict(test_features)\n",
    "\n",
    "prediction_list=np.reshape(prediction,(-1))\n",
    "\n",
    "print(prediction_list)\n",
    "print(Y_test)\n",
    "actual_values=np.reshape(Y_test,(-1))"
   ]
  },
  {
   "cell_type": "code",
   "execution_count": 62,
   "metadata": {
    "collapsed": false
   },
   "outputs": [
    {
     "data": {
      "image/png": "[encoded data removed]",
      "text/plain": [
       "<matplotlib.figure.Figure at 0x166fa5eada0>"
      ]
     },
     "metadata": {},
     "output_type": "display_data"
    }
   ],
   "source": [
    "plt.plot(range(0,len(prediction)),prediction_list)\n",
    "plt.plot(range(0,len(prediction)),actual_values)\n",
    "plt.show()"
   ]
  },
  {
   "cell_type": "code",
   "execution_count": 71,
   "metadata": {
    "collapsed": false
   },
   "outputs": [
    {
     "data": {
      "text/plain": [
       "array([[ 975.12310791]], dtype=float32)"
      ]
     },
     "execution_count": 71,
     "metadata": {},
     "output_type": "execute_result"
    }
   ],
   "source": [
    "prediction=model.predict(np.array([[[1.462149416728717 ,1.4493964945057645 ,1.46138505260009, 1.4567647786297302,\n",
    "   -0.10994304213315698]]]))\n",
    "\n",
    "(prediction+1)*406\n",
    "\n"
   ]
  },
  {
   "cell_type": "code",
   "execution_count": null,
   "metadata": {
    "collapsed": true
   },
   "outputs": [],
   "source": [
    "1.40"
   ]
  }
 ],
 "metadata": {
  "anaconda-cloud": {},
  "kernelspec": {
   "display_name": "Python 3",
   "language": "python",
   "name": "python3"
  },
  "language_info": {
   "codemirror_mode": {
    "name": "ipython",
    "version": 3
   },
   "file_extension": ".py",
   "mimetype": "text/x-python",
   "name": "python",
   "nbconvert_exporter": "python",
   "pygments_lexer": "ipython3",
   "version": "3.6.0"
  }
 },
 "nbformat": 4,
 "nbformat_minor": 2
}

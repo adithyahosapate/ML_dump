{
 "cells": [
  {
   "cell_type": "code",
   "execution_count": 1,
   "metadata": {
    "collapsed": true
   },
   "outputs": [],
   "source": [
    "import pandas as pd\n",
    "import numpy as np\n"
   ]
  },
  {
   "cell_type": "code",
   "execution_count": 4,
   "metadata": {
    "collapsed": true
   },
   "outputs": [],
   "source": [
    "with open(\"data_regression.csv\",\"r\") as infile:\n",
    "    df=pd.read_csv(infile)"
   ]
  },
  {
   "cell_type": "code",
   "execution_count": 5,
   "metadata": {},
   "outputs": [
    {
     "name": "stdout",
     "output_type": "stream",
     "text": [
      "         col1        col2\n",
      "0   32.502345   31.707006\n",
      "1   53.426804   68.777596\n",
      "2   61.530358   62.562382\n",
      "3   47.475640   71.546632\n",
      "4   59.813208   87.230925\n",
      "5   55.142188   78.211518\n",
      "6   52.211797   79.641973\n",
      "7   39.299567   59.171489\n",
      "8   48.105042   75.331242\n",
      "9   52.550014   71.300880\n",
      "10  45.419730   55.165677\n",
      "11  54.351635   82.478847\n",
      "12  44.164049   62.008923\n",
      "13  58.168471   75.392870\n",
      "14  56.727208   81.436192\n",
      "15  48.955889   60.723602\n",
      "16  44.687196   82.892504\n",
      "17  60.297327   97.379897\n",
      "18  45.618644   48.847153\n",
      "19  38.816818   56.877213\n",
      "20  66.189817   83.878565\n",
      "21  65.416052  118.591217\n",
      "22  47.481209   57.251819\n",
      "23  41.575643   51.391744\n",
      "24  51.845187   75.380652\n",
      "25  59.370822   74.765564\n",
      "26  57.310003   95.455053\n",
      "27  63.615561   95.229366\n",
      "28  46.737619   79.052406\n",
      "29  50.556760   83.432071\n",
      "..        ...         ...\n",
      "70  31.588117   50.392670\n",
      "71  53.660932   63.642399\n",
      "72  46.682229   72.247251\n",
      "73  43.107820   57.812513\n",
      "74  70.346076  104.257102\n",
      "75  44.492856   86.642020\n",
      "76  57.504533   91.486778\n",
      "77  36.930077   55.231661\n",
      "78  55.805733   79.550437\n",
      "79  38.954769   44.847124\n",
      "80  56.901215   80.207523\n",
      "81  56.868901   83.142750\n",
      "82  34.333125   55.723489\n",
      "83  59.049741   77.634183\n",
      "84  57.788224   99.051415\n",
      "85  54.282329   79.120646\n",
      "86  51.088720   69.588898\n",
      "87  50.282836   69.510503\n",
      "88  44.211742   73.687564\n",
      "89  38.005488   61.366905\n",
      "90  32.940480   67.170656\n",
      "91  53.691640   85.668203\n",
      "92  68.765734  114.853871\n",
      "93  46.230967   90.123572\n",
      "94  68.319361   97.919821\n",
      "95  50.030174   81.536991\n",
      "96  49.239765   72.111832\n",
      "97  50.039576   85.232007\n",
      "98  48.149859   66.224958\n",
      "99  25.128485   53.454394\n",
      "\n",
      "[100 rows x 2 columns]\n"
     ]
    }
   ],
   "source": [
    "print(df)"
   ]
  },
  {
   "cell_type": "code",
   "execution_count": 8,
   "metadata": {},
   "outputs": [
    {
     "data": {
      "image/png": "[encoded data removed]",
      "text/plain": [
       "<matplotlib.figure.Figure at 0x20bb7b60e10>"
      ]
     },
     "metadata": {},
     "output_type": "display_data"
    }
   ],
   "source": [
    "import matplotlib.pyplot as plt\n",
    "plt.style.use('ggplot')\n",
    "plt.scatter(df['col1'],df['col2'])\n",
    "plt.show()"
   ]
  },
  {
   "cell_type": "code",
   "execution_count": 24,
   "metadata": {},
   "outputs": [],
   "source": [
    "df['col3']=np.square(df['col1'])\n",
    "df['col4']=np.power(df['col1'],3)\n",
    "df['col5']=np.power(df['col1'],0)"
   ]
  },
  {
   "cell_type": "code",
   "execution_count": 43,
   "metadata": {},
   "outputs": [
    {
     "name": "stdout",
     "output_type": "stream",
     "text": [
      "         col1        col2         col3           col4  col5\n",
      "0   32.502345   31.707006  1056.402448   34335.557111   1.0\n",
      "1   53.426804   68.777596  2854.423389  152502.719015   1.0\n",
      "2   61.530358   62.562382  3785.984959  232953.010042   1.0\n",
      "3   47.475640   71.546632  2253.936358  107007.070295   1.0\n",
      "4   59.813208   87.230925  3577.619836  213988.918913   1.0\n",
      "5   55.142188   78.211518  3040.660943  167668.698590   1.0\n",
      "6   52.211797   79.641973  2726.071714  142333.102073   1.0\n",
      "7   39.299567   59.171489  1544.455942   60696.449293   1.0\n",
      "8   48.105042   75.331242  2314.095036  111319.638181   1.0\n",
      "9   52.550014   71.300880  2761.504018  145117.076003   1.0\n",
      "10  45.419730   55.165677  2062.951886   93698.717953   1.0\n",
      "11  54.351635   82.478847  2954.100214  160560.176237   1.0\n",
      "12  44.164049   62.008923  1950.463268   86140.356326   1.0\n",
      "13  58.168471   75.392870  3383.570986  196817.149823   1.0\n",
      "14  56.727208   81.436192  3217.976134  182546.801702   1.0\n",
      "15  48.955889   60.723602  2396.679026  117331.551319   1.0\n",
      "16  44.687196   82.892504  1996.945507   89237.895727   1.0\n",
      "17  60.297327   97.379897  3635.767625  219227.068851   1.0\n",
      "18  45.618644   48.847153  2081.060659   94935.164886   1.0\n",
      "19  38.816818   56.877213  1506.745324   58487.058318   1.0\n",
      "20  66.189817   83.878565  4381.091823  289983.664307   1.0\n",
      "21  65.416052  118.591217  4279.259827  279932.282266   1.0\n",
      "22  47.481209   57.251819  2254.465171  107044.731091   1.0\n",
      "23  41.575643   51.391744  1728.534059   71864.914305   1.0\n",
      "24  51.845187   75.380652  2687.923406  139355.891370   1.0\n",
      "25  59.370822   74.765564  3524.894506  209275.884328   1.0\n",
      "26  57.310003   95.455053  3284.436494  188231.066786   1.0\n",
      "27  63.615561   95.229366  4046.939633  257448.336108   1.0\n",
      "28  46.737619   79.052406  2184.405068  102093.892711   1.0\n",
      "29  50.556760   83.432071  2555.985997  129222.370990   1.0\n",
      "..        ...         ...          ...            ...   ...\n",
      "70  31.588117   50.392670   997.809136   31518.911719   1.0\n",
      "71  53.660932   63.642399  2879.495651  154516.421072   1.0\n",
      "72  46.682229   72.247251  2179.230472  101731.335162   1.0\n",
      "73  43.107820   57.812513  1858.284164   80106.579665   1.0\n",
      "74  70.346076  104.257102  4948.570355  348112.504413   1.0\n",
      "75  44.492856   86.642020  1979.614224   88078.690382   1.0\n",
      "76  57.504533   91.486778  3306.771350  190154.343214   1.0\n",
      "77  36.930077   55.231661  1363.830558   50366.367006   1.0\n",
      "78  55.805733   79.550437  3114.279876  173794.672360   1.0\n",
      "79  38.954769   44.847124  1517.474033   59112.850537   1.0\n",
      "80  56.901215   80.207523  3237.748234  184231.807426   1.0\n",
      "81  56.868901   83.142750  3234.071862  183918.111463   1.0\n",
      "82  34.333125   55.723489  1178.763452   40470.632578   1.0\n",
      "83  59.049741   77.634183  3486.871937  205898.885510   1.0\n",
      "84  57.788224   99.051415  3339.478832  192982.550749   1.0\n",
      "85  54.282329   79.120646  2946.571210  159946.746998   1.0\n",
      "86  51.088720   69.588898  2610.057301  133344.486375   1.0\n",
      "87  50.282836   69.510503  2528.363631  127133.294711   1.0\n",
      "88  44.211742   73.687564  1954.678109   86419.723740   1.0\n",
      "89  38.005488   61.366905  1444.417119   54895.777493   1.0\n",
      "90  32.940480   67.170656  1085.075219   35742.898474   1.0\n",
      "91  53.691640   85.668203  2882.792160  154781.837595   1.0\n",
      "92  68.765734  114.853871  4728.726210  325174.329971   1.0\n",
      "93  46.230967   90.123572  2137.302264   98809.549345   1.0\n",
      "94  68.319361   97.919821  4667.535063  318883.012099   1.0\n",
      "95  50.030174   81.536991  2503.018344  125226.444151   1.0\n",
      "96  49.239765   72.111832  2424.554491  119384.494178   1.0\n",
      "97  50.039576   85.232007  2503.959160  125297.054550   1.0\n",
      "98  48.149859   66.224958  2318.408911  111631.061920   1.0\n",
      "99  25.128485   53.454394   631.440741   15867.148963   1.0\n",
      "\n",
      "[100 rows x 5 columns]\n"
     ]
    }
   ],
   "source": [
    "print(df)"
   ]
  },
  {
   "cell_type": "code",
   "execution_count": 53,
   "metadata": {},
   "outputs": [
    {
     "name": "stdout",
     "output_type": "stream",
     "text": [
      "(100,)\n",
      "[  5.71956374e+03  -8.67462187e+02   5.84388668e+01  -2.41488520e+00\n",
      "   7.29468095e-02  -1.73495420e-03   3.10890609e-05  -3.75202750e-07\n",
      "   2.62699805e-09  -7.94234786e-12]\n"
     ]
    }
   ],
   "source": [
    "max_power=10\n",
    "X=np.array([np.power(df['col1'],i) for i in range( max_power)])\n",
    "Y=df['col2']\n",
    "print(Y.shape)\n",
    "X=X.T\n",
    "theta=np.dot(np.dot(np.linalg.inv(np.dot(X.T,X)),X.T),Y)\n",
    "print(theta)"
   ]
  },
  {
   "cell_type": "code",
   "execution_count": 54,
   "metadata": {},
   "outputs": [
    {
     "name": "stdout",
     "output_type": "stream",
     "text": [
      "(10, 100000)\n"
     ]
    }
   ],
   "source": [
    "x=np.linspace(np.min(df['col1']),np.max(df['col1']),100000)\n",
    "total_x=np.array([np.power(x,i) for i in range(max_power)])\n",
    "print(total_x.shape)\n"
   ]
  },
  {
   "cell_type": "code",
   "execution_count": 55,
   "metadata": {},
   "outputs": [
    {
     "data": {
      "image/png": "[encoded data removed]",
      "text/plain": [
       "<matplotlib.figure.Figure at 0x20bb7b76470>"
      ]
     },
     "metadata": {},
     "output_type": "display_data"
    }
   ],
   "source": [
    "y=np.dot(total_x.T,theta)\n",
    "plt.plot(x,y)\n",
    "plt.scatter(df['col1'],df['col2'])\n",
    "plt.show()"
   ]
  },
  {
   "cell_type": "code",
   "execution_count": null,
   "metadata": {
    "collapsed": true
   },
   "outputs": [],
   "source": []
  }
 ],
 "metadata": {
  "anaconda-cloud": {},
  "kernelspec": {
   "display_name": "Python [conda env:tensorflow]",
   "language": "python",
   "name": "conda-env-tensorflow-py"
  },
  "language_info": {
   "codemirror_mode": {
    "name": "ipython",
    "version": 3
   },
   "file_extension": ".py",
   "mimetype": "text/x-python",
   "name": "python",
   "nbconvert_exporter": "python",
   "pygments_lexer": "ipython3",
   "version": "3.5.3"
  }
 },
 "nbformat": 4,
 "nbformat_minor": 2
}

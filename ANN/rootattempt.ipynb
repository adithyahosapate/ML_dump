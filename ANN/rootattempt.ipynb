{
 "cells": [
  {
   "cell_type": "code",
   "execution_count": 1,
   "metadata": {
    "collapsed": true
   },
   "outputs": [],
   "source": [
    "import tensorflow as tf\n",
    "import numpy as np\n"
   ]
  },
  {
   "cell_type": "code",
   "execution_count": 2,
   "metadata": {
    "collapsed": true
   },
   "outputs": [],
   "source": [
    "np.random.seed(4)\n",
    "order=2"
   ]
  },
  {
   "cell_type": "code",
   "execution_count": 3,
   "metadata": {
    "collapsed": true
   },
   "outputs": [],
   "source": [
    "no_training_examples=100000\n",
    "training_set=[]\n",
    "for i in range(no_training_examples):\n",
    "    training_set.append(10*np.random.random(3)-5)\n",
    "training_set=np.array(training_set)    "
   ]
  },
  {
   "cell_type": "code",
   "execution_count": 4,
   "metadata": {},
   "outputs": [
    {
     "name": "stdout",
     "output_type": "stream",
     "text": [
      "[[ 4.67029839  0.47232249  4.7268436 ]\n",
      " [ 2.14815994  1.97728825 -2.83910504]\n",
      " [ 4.76274455 -4.93769745 -2.47017638]\n",
      " [-0.65208468  2.79382922 -3.02314925]\n",
      " [ 3.62993236  4.83400677 -3.36157759]\n",
      " [ 0.97333944 -4.91013902 -1.13428717]\n",
      " [-4.55839942  4.56652968 -0.63853353]\n",
      " [ 4.48977307  2.86305986  3.66289299]\n",
      " [-3.26834579 -4.25051413  1.00742721]\n",
      " [-3.32027816  2.33380168 -0.9155614 ]\n",
      " [ 0.27908823  4.37571584  0.21696122]\n",
      " [-3.91806617 -3.41776593  0.45202652]\n",
      " [ 0.2440408   1.37610244 -0.98504556]\n",
      " [ 1.49805109 -1.03099997  1.23916114]\n",
      " [ 2.67404967 -3.2102609  -1.24424231]\n",
      " [ 0.02533059  1.8666708  -2.46320351]\n",
      " [ 0.54740863  1.24930844  3.95501166]\n",
      " [-1.37146412  1.37557073 -3.08553598]\n",
      " [-0.02205885 -3.17554595  4.18383039]\n",
      " [-0.68177929  3.30188102 -0.83223695]\n",
      " [ 4.04667589 -0.95174783 -1.68825497]\n",
      " [ 0.7213877   3.45443649  3.61014312]\n",
      " [ 0.95688117 -4.15338389  0.97266607]\n",
      " [-2.54546291  2.32593449  3.94651292]\n",
      " [ 0.14733971  1.0356351  -4.34932188]\n",
      " [ 0.4007473  -3.70813216  1.14562846]\n",
      " [-1.36349653  2.67758034 -4.51465864]\n",
      " [-3.90181882  1.84023215  0.14653697]\n",
      " [ 0.71641372  3.43706994 -0.12262361]\n",
      " [ 3.10144422  0.10243629  4.26720693]\n",
      " [ 1.66927772 -3.51273161 -1.35446825]\n",
      " [ 3.65774916 -1.49714789 -3.10974241]\n",
      " [-0.27378691 -1.07218825  1.18929927]\n",
      " [-0.63233708 -2.39077843 -0.87527788]\n",
      " [-0.80965965  4.02421856  4.79616262]\n",
      " [ 1.23568839 -4.16815877  2.32998718]\n",
      " [ 1.78685402  3.26022867 -1.52548663]\n",
      " [-4.41119906  1.11821816 -3.75985382]\n",
      " [ 2.59529529  2.94423318 -0.91373213]\n",
      " [ 4.43797506 -3.26220206  4.4258585 ]\n",
      " [-0.34510325  2.62993641  2.52820195]\n",
      " [ 4.81209919  4.73277994 -4.59908875]\n",
      " [-4.84028722  0.43290315 -4.66122382]\n",
      " [ 1.57484636  0.34902602  1.66558396]\n",
      " [-0.58659296 -2.27528541  4.4966894 ]\n",
      " [ 2.2826944  -4.93676063 -4.00672235]\n",
      " [ 1.31692245 -2.11963173 -0.92378323]\n",
      " [ 2.81531124 -1.45854462  4.25808597]\n",
      " [ 2.20452121  0.51926441 -3.19035164]\n",
      " [-0.9040861   2.6288179   4.90796819]\n",
      " [-4.26347626 -3.65247393  2.4004473 ]\n",
      " [ 3.3378137  -4.11227143  3.2941795 ]\n",
      " [ 2.86732314  1.88221273 -1.60073584]\n",
      " [-0.55459335 -1.33663861  3.40466065]\n",
      " [-1.71677863 -1.77425024  4.35290857]\n",
      " [ 4.19987348  4.68674125  3.07548953]\n",
      " [-4.13084382 -4.09089448  0.57082075]\n",
      " [ 3.56183771  3.84197864  1.36848673]\n",
      " [ 4.55804594 -3.48114399 -2.7841907 ]\n",
      " [-1.67504833 -2.43195079 -1.87794968]\n",
      " [-3.81554484 -1.24659857 -4.70226003]\n",
      " [ 0.37781666  4.45828295 -0.54874807]\n",
      " [ 1.24153244  1.11812349  4.33379168]\n",
      " [ 2.34519053  3.24820928 -1.6415059 ]\n",
      " [ 4.07464646 -3.14790766 -0.92017731]\n",
      " [ 2.37451973 -1.66543618  3.86134231]\n",
      " [ 3.60655862 -3.3488188  -2.69254058]\n",
      " [-4.47565121  3.58720848 -1.60775092]\n",
      " [-1.06753272 -2.29634518 -3.76772111]\n",
      " [-0.43060758 -2.65282947  0.63153235]\n",
      " [-2.97234952  0.11387282  4.48325884]\n",
      " [-1.28166294  4.54219089 -4.42794084]\n",
      " [ 0.48805118  0.99797491  4.61753318]\n",
      " [ 4.25185131  0.1090613   2.5948614 ]\n",
      " [ 4.75905282  2.36500264  4.53955974]\n",
      " [ 4.38893979 -0.18232839  1.59894231]\n",
      " [-3.20150367 -0.62976528  3.66124189]\n",
      " [ 0.7723207  -2.20546396 -3.77210747]\n",
      " [-2.68144798 -3.75007435 -2.6621957 ]\n",
      " [-1.1641999  -4.57101469  3.38710697]\n",
      " [-0.96189738  0.67368964  1.36134015]\n",
      " [-3.67157994 -4.17292388 -3.43467787]\n",
      " [ 4.86224723 -3.95484758 -0.77344079]\n",
      " [ 3.75062347  0.84275653 -4.82466329]\n",
      " [ 3.88702581 -1.15852337 -3.32269792]\n",
      " [-1.62820169  0.94148132 -4.6225482 ]\n",
      " [ 1.43308521  1.101064   -2.71206078]\n",
      " [-0.7398224  -3.06485037 -4.7867016 ]\n",
      " [ 0.83919874 -0.54642955  3.42056648]\n",
      " [-3.00944346 -0.59400953  1.67454533]\n",
      " [-4.3166537  -1.44663371  1.86036303]\n",
      " [-2.54928103 -1.36022678  0.77363699]\n",
      " [-0.90564408  3.76781503  3.59881278]\n",
      " [ 3.33976893 -0.73728833 -3.09870004]\n",
      " [ 1.38863103 -0.71845019  0.05807071]\n",
      " [ 1.51051558  4.39941535  3.08249727]\n",
      " [-3.76783367  4.07462209  1.77067333]\n",
      " [-1.80574805  2.29992989 -0.25036081]\n",
      " [ 0.61032564  0.71824694 -3.48510751]\n",
      " [-1.38017882 -0.64265259 -4.42274901]]\n"
     ]
    }
   ],
   "source": [
    "print(training_set[:100])"
   ]
  },
  {
   "cell_type": "code",
   "execution_count": 5,
   "metadata": {
    "collapsed": true
   },
   "outputs": [],
   "source": [
    "training_roots=np.array([[np.real(np.roots(coeff)),np.imag(np.roots(coeff))]  for coeff in training_set])"
   ]
  },
  {
   "cell_type": "code",
   "execution_count": 6,
   "metadata": {},
   "outputs": [
    {
     "name": "stdout",
     "output_type": "stream",
     "text": [
      "(100000, 2, 2)\n"
     ]
    }
   ],
   "source": [
    "print(training_roots.shape)\n",
    "training_roots=np.reshape(training_roots,(no_training_examples,order*2))"
   ]
  },
  {
   "cell_type": "code",
   "execution_count": 7,
   "metadata": {},
   "outputs": [
    {
     "name": "stdout",
     "output_type": "stream",
     "text": [
      "[[ -5.05666290e-02  -5.05666290e-02   1.00476386e+00  -1.00476386e+00]\n",
      " [ -1.69855596e+00   7.78099238e-01   0.00000000e+00   0.00000000e+00]\n",
      " [  1.40569411e+00  -3.68960480e-01   0.00000000e+00   0.00000000e+00]\n",
      " [  2.14222886e+00   2.14222886e+00   2.16761197e-01  -2.16761197e-01]\n",
      " [ -1.83608117e+00   5.04374046e-01   0.00000000e+00   0.00000000e+00]\n",
      " [  5.26593274e+00  -2.21301008e-01   0.00000000e+00   0.00000000e+00]\n",
      " [  8.33779356e-01   1.68004221e-01   0.00000000e+00   0.00000000e+00]\n",
      " [ -3.18842380e-01  -3.18842380e-01   8.45085708e-01  -8.45085708e-01]\n",
      " [ -1.50528025e+00   2.04770937e-01   0.00000000e+00   0.00000000e+00]\n",
      " [  3.51446710e-01   3.51446710e-01   3.90171260e-01  -3.90171260e-01]\n",
      " [ -1.56288701e+01  -4.97408284e-02   0.00000000e+00   0.00000000e+00]\n",
      " [ -9.88966348e-01   1.16656954e-01   0.00000000e+00   0.00000000e+00]\n",
      " [ -6.28141481e+00   6.42593612e-01   0.00000000e+00   0.00000000e+00]\n",
      " [  3.44113755e-01   3.44113755e-01   8.41883533e-01  -8.41883533e-01]\n",
      " [  1.50889677e+00  -3.08372732e-01   0.00000000e+00   0.00000000e+00]\n",
      " [ -7.49890959e+01   1.29675167e+00   0.00000000e+00   0.00000000e+00]\n",
      " [ -1.14111139e+00  -1.14111139e+00   2.43368777e+00  -2.43368777e+00]\n",
      " [  5.01497164e-01   5.01497164e-01   1.41361673e+00  -1.41361673e+00]\n",
      " [ -1.45263559e+02   1.30567307e+00   0.00000000e+00   0.00000000e+00]\n",
      " [  4.57629444e+00   2.66740667e-01   0.00000000e+00   0.00000000e+00]\n",
      " [  7.74120720e-01  -5.38928218e-01   0.00000000e+00   0.00000000e+00]\n",
      " [ -3.24766231e+00  -1.54093677e+00   0.00000000e+00   0.00000000e+00]\n",
      " [  4.09214098e+00   2.48402048e-01   0.00000000e+00   0.00000000e+00]\n",
      " [  1.78320750e+00  -8.69450525e-01   0.00000000e+00   0.00000000e+00]\n",
      " [ -9.98517634e+00   2.95628297e+00   0.00000000e+00   0.00000000e+00]\n",
      " [  8.93302533e+00   3.20018164e-01   0.00000000e+00   0.00000000e+00]\n",
      " [  9.81880146e-01   9.81880146e-01   1.53199236e+00  -1.53199236e+00]\n",
      " [  5.41048003e-01  -6.94135589e-02   0.00000000e+00   0.00000000e+00]\n",
      " [ -4.83302023e+00   3.54153540e-02   0.00000000e+00   0.00000000e+00]\n",
      " [ -1.65142891e-02  -1.65142891e-02   1.17286174e+00  -1.17286174e+00]\n",
      " [  2.43726095e+00  -3.32918709e-01   0.00000000e+00   0.00000000e+00]\n",
      " [  1.14914492e+00  -7.39836401e-01   0.00000000e+00   0.00000000e+00]\n",
      " [ -4.81777829e+00   9.01636871e-01   0.00000000e+00   0.00000000e+00]\n",
      " [ -3.37013703e+00  -4.10723682e-01   0.00000000e+00   0.00000000e+00]\n",
      " [  5.96357007e+00  -9.93310610e-01   0.00000000e+00   0.00000000e+00]\n",
      " [  2.66583459e+00   7.07312550e-01   0.00000000e+00   0.00000000e+00]\n",
      " [ -2.21073685e+00   3.86173333e-01   0.00000000e+00   0.00000000e+00]\n",
      " [  1.26747643e-01   1.26747643e-01   9.14482285e-01  -9.14482285e-01]\n",
      " [ -1.38808854e+00   2.53638369e-01   0.00000000e+00   0.00000000e+00]\n",
      " [  3.67532717e-01   3.67532717e-01   9.28541599e-01  -9.28541599e-01]\n",
      " [  8.48420220e+00  -8.63478843e-01   0.00000000e+00   0.00000000e+00]\n",
      " [ -1.58608951e+00   6.02572805e-01   0.00000000e+00   0.00000000e+00]\n",
      " [  4.47187460e-02   4.47187460e-02   9.80309063e-01  -9.80309063e-01]\n",
      " [ -1.10812720e-01  -1.10812720e-01   1.02241740e+00  -1.02241740e+00]\n",
      " [ -5.31980315e+00   1.44098840e+00   0.00000000e+00   0.00000000e+00]\n",
      " [  2.79148167e+00  -6.28791547e-01   0.00000000e+00   0.00000000e+00]\n",
      " [  1.96628393e+00  -3.56749721e-01   0.00000000e+00   0.00000000e+00]\n",
      " [  2.59037899e-01   2.59037899e-01   1.20223695e+00  -1.20223695e+00]\n",
      " [ -1.32651415e+00   1.09096894e+00   0.00000000e+00   0.00000000e+00]\n",
      " [  4.20018618e+00  -1.29247873e+00   0.00000000e+00   0.00000000e+00]\n",
      " [ -1.29234975e+00   4.35660579e-01   0.00000000e+00   0.00000000e+00]\n",
      " [  6.16012725e-01   6.16012725e-01   7.79394401e-01  -7.79394401e-01]\n",
      " [ -1.14430309e+00   4.87867578e-01   0.00000000e+00   0.00000000e+00]\n",
      " [ -3.96027435e+00   1.55015061e+00   0.00000000e+00   0.00000000e+00]\n",
      " [ -2.19081345e+00   1.15733703e+00   0.00000000e+00   0.00000000e+00]\n",
      " [ -5.57962196e-01  -5.57962196e-01   6.48814041e-01  -6.48814041e-01]\n",
      " [ -1.11433566e+00   1.24006643e-01   0.00000000e+00   0.00000000e+00]\n",
      " [ -5.39325336e-01  -5.39325336e-01   3.05509794e-01  -3.05509794e-01]\n",
      " [  1.25172610e+00  -4.87990055e-01   0.00000000e+00   0.00000000e+00]\n",
      " [ -7.25934514e-01  -7.25934514e-01   7.70811727e-01  -7.70811727e-01]\n",
      " [ -1.63357872e-01  -1.63357872e-01   1.09804810e+00  -1.09804810e+00]\n",
      " [ -1.19219499e+01   1.21827296e-01   0.00000000e+00   0.00000000e+00]\n",
      " [ -4.50299745e-01  -4.50299745e-01   1.81325936e+00  -1.81325936e+00]\n",
      " [ -1.77859079e+00   3.93539453e-01   0.00000000e+00   0.00000000e+00]\n",
      " [  9.98686659e-01  -2.26126957e-01   0.00000000e+00   0.00000000e+00]\n",
      " [  3.50689059e-01   3.50689059e-01   1.22604011e+00  -1.22604011e+00]\n",
      " [  1.44514123e+00  -5.16605433e-01   0.00000000e+00   0.00000000e+00]\n",
      " [  4.00747100e-01   4.00747100e-01   4.45671892e-01  -4.45671892e-01]\n",
      " [ -1.07553855e+00  -1.07553855e+00   1.54032133e+00  -1.54032133e+00]\n",
      " [ -6.39017569e+00   2.29509745e-01   0.00000000e+00   0.00000000e+00]\n",
      " [  1.24744216e+00  -1.20913145e+00   0.00000000e+00   0.00000000e+00]\n",
      " [  1.77199120e+00   1.77199120e+00   5.61148411e-01  -5.61148411e-01]\n",
      " [ -1.02240805e+00  -1.02240805e+00   2.90100804e+00  -2.90100804e+00]\n",
      " [ -1.28251539e-02  -1.28251539e-02   7.81105176e-01  -7.81105176e-01]\n",
      " [ -2.48474090e-01  -2.48474090e-01   9.44531343e-01  -9.44531343e-01]\n",
      " [  2.07713474e-02   2.07713474e-02   6.03224912e-01  -6.03224912e-01]\n",
      " [ -1.17226072e+00   9.75551507e-01   0.00000000e+00   0.00000000e+00]\n",
      " [  4.05893372e+00  -1.20330140e+00   0.00000000e+00   0.00000000e+00]\n",
      " [ -6.99262931e-01  -6.99262931e-01   7.09825009e-01  -7.09825009e-01]\n",
      " [ -4.56380553e+00   6.37491245e-01   0.00000000e+00   0.00000000e+00]\n",
      " [  1.59030766e+00  -8.89931866e-01   0.00000000e+00   0.00000000e+00]\n",
      " [ -5.68273598e-01  -5.68273598e-01   7.82650576e-01  -7.82650576e-01]\n",
      " [  9.76309151e-01  -1.62930606e-01   0.00000000e+00   0.00000000e+00]\n",
      " [ -1.25207921e+00   1.02738149e+00   0.00000000e+00   0.00000000e+00]\n",
      " [  1.08552097e+00  -7.87472175e-01   0.00000000e+00   0.00000000e+00]\n",
      " [  2.89116920e-01   2.89116920e-01   1.65995866e+00  -1.65995866e+00]\n",
      " [ -1.81245858e+00   1.04414139e+00   0.00000000e+00   0.00000000e+00]\n",
      " [ -2.07134197e+00  -2.07134197e+00   1.47635056e+00  -1.47635056e+00]\n",
      " [  3.25566239e-01   3.25566239e-01   1.99248528e+00  -1.99248528e+00]\n",
      " [ -8.51133703e-01   6.53751850e-01   0.00000000e+00   0.00000000e+00]\n",
      " [ -8.45097430e-01   5.09968922e-01   0.00000000e+00   0.00000000e+00]\n",
      " [ -8.78870968e-01   3.45298262e-01   0.00000000e+00   0.00000000e+00]\n",
      " [  4.96131905e+00  -8.00948415e-01   0.00000000e+00   0.00000000e+00]\n",
      " [  1.07991739e+00  -8.59157104e-01   0.00000000e+00   0.00000000e+00]\n",
      " [  4.17125859e-01   1.00254330e-01   0.00000000e+00   0.00000000e+00]\n",
      " [ -1.73912187e+00  -1.17340375e+00   0.00000000e+00   0.00000000e+00]\n",
      " [  1.41381724e+00  -3.32394210e-01   0.00000000e+00   0.00000000e+00]\n",
      " [  1.15347220e+00   1.20199333e-01   0.00000000e+00   0.00000000e+00]\n",
      " [ -3.04940301e+00   1.87257724e+00   0.00000000e+00   0.00000000e+00]\n",
      " [ -2.32814973e-01  -2.32814973e-01   1.77490071e+00  -1.77490071e+00]]\n"
     ]
    }
   ],
   "source": [
    "print(training_roots[:100])"
   ]
  },
  {
   "cell_type": "code",
   "execution_count": 8,
   "metadata": {
    "collapsed": true
   },
   "outputs": [],
   "source": [
    "X=tf.placeholder(tf.float32,[None,order+1])\n",
    "Y=tf.placeholder(tf.float32,[None,order*2])\n",
    "def create_weight(size,name):\n",
    "    return tf.Variable(tf.truncated_normal(size,stddev=0.1),name=name)\n",
    "def create_bias(size,name):\n",
    "    return tf.Variable(tf.zeros(size),name=name)\n",
    "def FC_layer(W,b,x):\n",
    "    return tf.matmul(x,W)+b\n",
    "\n",
    "hidden_size_1=10\n",
    "#W1=tf.Variable()"
   ]
  },
  {
   "cell_type": "code",
   "execution_count": 9,
   "metadata": {
    "collapsed": true
   },
   "outputs": [],
   "source": [
    "input_size=order+1\n",
    "hidden_size_1=10\n",
    "hidden_size_2=50\n",
    "hidden_size_3=100\n",
    "hidden_size_4=50\n",
    "hidden_size_5=10\n",
    "hidden_size_6=order*2\n"
   ]
  },
  {
   "cell_type": "code",
   "execution_count": 16,
   "metadata": {
    "collapsed": true
   },
   "outputs": [],
   "source": [
    "W1=create_weight([input_size,hidden_size_1],name=\"W1\")\n",
    "W2=create_weight([hidden_size_1,hidden_size_2],name=\"W2\" )          \n",
    "W3=create_weight([hidden_size_2,hidden_size_3],name=\"W3\" )\n",
    "W4=create_weight([hidden_size_3,hidden_size_4],name=\"W4\" )\n",
    "W5=create_weight([hidden_size_4,hidden_size_5],name=\"W5\" )\n",
    "W6=create_weight([hidden_size_5,hidden_size_6],name=\"W6\" )\n",
    "b1=create_bias([hidden_size_1],name=\"b1\")\n",
    "b2=create_bias([hidden_size_2],name=\"b2\")\n",
    "b3=create_bias([hidden_size_3],name=\"b3\")\n",
    "b4=create_bias([hidden_size_4],name=\"b4\")\n",
    "b5=create_bias([hidden_size_5],name=\"b5\")\n",
    "b6=create_bias([hidden_size_6],name=\"b6\")\n",
    "layer_1=tf.nn.dropout(tf.nn.sigmoid(FC_layer(W1,b1,X)),0.1)\n",
    "layer_2=tf.nn.dropout(tf.nn.sigmoid(FC_layer(W2,b2,layer_1)),0.1)\n",
    "layer_3=tf.nn.sigmoid(FC_layer(W3,b3,layer_2))\n",
    "layer_4=tf.nn.sigmoid(FC_layer(W4,b4,layer_3))\n",
    "layer_5=tf.nn.sigmoid(FC_layer(W5,b5,layer_4))\n",
    "layer_6=FC_layer(W6,b6,layer_5)\n",
    "loss=tf.reduce_mean(tf.square(Y-layer_6))\n",
    "\n",
    "\n",
    "\n",
    "\n",
    "optimizer = tf.train.GradientDescentOptimizer(0.1).minimize(loss)\n",
    "\n",
    "\n",
    "\n",
    "\n",
    "\n",
    "\n"
   ]
  },
  {
   "cell_type": "code",
   "execution_count": null,
   "metadata": {},
   "outputs": [
    {
     "name": "stdout",
     "output_type": "stream",
     "text": [
      "Epoch : 0 Loss: 6.547685146331787\n",
      "Epoch : 1 Loss: 6.5476603507995605\n",
      "Epoch : 2 Loss: 6.547626495361328\n",
      "Epoch : 3 Loss: 6.547674655914307\n",
      "Epoch : 4 Loss: 6.547633171081543\n",
      "Epoch : 5 Loss: 6.547656059265137\n",
      "Epoch : 6 Loss: 6.547633647918701\n",
      "Epoch : 7 Loss: 6.547653675079346\n",
      "Epoch : 8 Loss: 6.547634124755859\n",
      "Epoch : 9 Loss: 6.547674655914307\n",
      "Epoch : 10 Loss: 6.547647476196289\n"
     ]
    }
   ],
   "source": [
    "batch_size=100\n",
    "epochs=1000\n",
    "loss_list=[]\n",
    "init=tf.global_variables_initializer()\n",
    "sess=tf.InteractiveSession()\n",
    "sess.run(init)\n",
    "data_pointer=0\n",
    "\n",
    "for epoch in range(epochs):\n",
    "    data_pointer=0\n",
    "    for iteration in range(no_training_examples//batch_size):\n",
    "        feed_dict={X:training_set[data_pointer:data_pointer+batch_size],Y:training_roots[data_pointer:data_pointer+batch_size]}\n",
    "        lass,optimiser=sess.run([loss,optimizer],feed_dict=feed_dict)\n",
    "        data_pointer+=batch_size\n",
    "    loss_list.append(lass)    \n",
    "    if epoch%1==0:\n",
    "        print(\"Epoch : {} Loss: {}\".format(epoch,loss.eval(feed_dict=feed_dict)))    \n",
    "\n",
    "\n"
   ]
  },
  {
   "cell_type": "code",
   "execution_count": 23,
   "metadata": {},
   "outputs": [
    {
     "data": {
      "image/png": "[encoded data removed]",
      "text/plain": [
       "<matplotlib.figure.Figure at 0x1c1aa04f390>"
      ]
     },
     "metadata": {},
     "output_type": "display_data"
    }
   ],
   "source": [
    "import matplotlib.pyplot as plt\n",
    "\n",
    "plt.plot(list(range(len(loss_list))),loss_list)\n",
    "plt.show()"
   ]
  },
  {
   "cell_type": "code",
   "execution_count": null,
   "metadata": {
    "collapsed": true
   },
   "outputs": [],
   "source": [
    "test=[1,4,4]\n",
    "roots=layer_6.eval({X:np.array([test])})    \n",
    "print(roots)\n",
    "print(np.roots(test))"
   ]
  },
  {
   "cell_type": "code",
   "execution_count": null,
   "metadata": {
    "collapsed": true
   },
   "outputs": [],
   "source": [
    "def evaluate(roots_list,coeff_list):\n",
    "    comp_root=[]\n",
    "    for i in range(0,len(roots_list),2):\n",
    "            comp_root.append(roots_list[i]+1j*roots_list[i+1])\n",
    "    print(comp_root)\n",
    "    ans=0\n",
    "    for i in range(len(coeff_list)):\n",
    "        ans+=coeff_list[i]*np.array(comp_root)**(len(coeff_list)-i)\n",
    "    return ans    \n",
    "    \n",
    "       \n",
    "evaluate(*roots,test)    "
   ]
  },
  {
   "cell_type": "code",
   "execution_count": null,
   "metadata": {
    "collapsed": true
   },
   "outputs": [],
   "source": []
  }
 ],
 "metadata": {
  "anaconda-cloud": {},
  "kernelspec": {
   "display_name": "Python [conda env:tensorflow]",
   "language": "python",
   "name": "conda-env-tensorflow-py"
  },
  "language_info": {
   "codemirror_mode": {
    "name": "ipython",
    "version": 3
   },
   "file_extension": ".py",
   "mimetype": "text/x-python",
   "name": "python",
   "nbconvert_exporter": "python",
   "pygments_lexer": "ipython3",
   "version": "3.5.3"
  }
 },
 "nbformat": 4,
 "nbformat_minor": 2
}
